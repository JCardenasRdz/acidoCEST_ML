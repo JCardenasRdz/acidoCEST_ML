{
 "cells": [
  {
   "cell_type": "markdown",
   "metadata": {},
   "source": [
    "### ML acidoCEST\n",
    "- Code source: [link](https://scikit-learn.org/0.15/auto_examples/plot_digits_pipe.html)\n",
    "- Modified by Julio Cardenas-Rodriguez, Ph.D.\n",
    "- CAMEL West @Tucson, AZ\n",
    "- License: TBD\n",
    "\n",
    "Change Log  \n",
    "- 2018_12_26: Initial Version\n",
    "- 2019_03_20: Copied to use with new data"
   ]
  },
  {
   "cell_type": "markdown",
   "metadata": {},
   "source": [
    "### To -do list\n",
    "1. find importance of each frequency\n",
    "2. pipeline to PCA ( if needed)\n",
    "3. Feature selection"
   ]
  },
  {
   "cell_type": "markdown",
   "metadata": {},
   "source": [
    "#### Logistic Regression"
   ]
  },
  {
   "cell_type": "code",
   "execution_count": 1,
   "metadata": {
    "collapsed": true
   },
   "outputs": [],
   "source": [
    "### Libraries\n",
    "import numpy as np\n",
    "import pandas as pd\n",
    "import scikitplot as skplt\n",
    "import matplotlib.pyplot as plt\n",
    "\n",
    "from sklearn import linear_model, decomposition, datasets\n",
    "from sklearn.model_selection import train_test_split\n",
    "from sklearn.pipeline import Pipeline\n",
    "from sklearn.model_selection import GridSearchCV\n",
    "from sklearn import metrics\n",
    "\n",
    "### Load data for polymer\n",
    "data_file ='../data/raw/CEST-ML-format_mdp_20181121_230pm_JCR_CJK_20190320.xlsx'\n",
    "\n",
    "df         = pd.read_excel(data_file, sheetname='Polymer')\n",
    "\n",
    "c = ['Sample ID','pH','concentration_mM','temperature_C','sat time_sec','sat power_uT']\n",
    "meta = df[c]\n",
    "\n",
    "### Get only frequencies without a NaN (re-write to avodi doing it by hand)\n",
    "data = df.drop(c,axis = 1)\n",
    "cols = data.columns[np.abs(data.columns.values) <= 14]\n",
    "X = data[cols]\n",
    "pH = meta['pH']"
   ]
  },
  {
   "cell_type": "code",
   "execution_count": 2,
   "metadata": {
    "collapsed": true
   },
   "outputs": [],
   "source": [
    "### define function to train model based on cuttoff for pH\n",
    "def train_logistic_regression_pipeline(Spectra, pH_observed, pH_cut_off = 7.0, n_cs=20):\n",
    "    # cut off > pH\n",
    "    y = 1*(pH_observed > pH_cut_off)\n",
    "    # X data\n",
    "    X = Spectra.copy()\n",
    "        \n",
    "    # 2-PCA\n",
    "    logistic = linear_model.LogisticRegression(solver='liblinear', penalty='l1',max_iter=500)\n",
    "\n",
    "    \n",
    "    # Training parameters\n",
    "    num_pca_components = np.arange(1,45,1)\n",
    "    Cs = np.logspace(-3, 2, n_cs)\n",
    "\n",
    "    # Grid Search on Pipeline\n",
    "    estimator = GridSearchCV(logistic,\n",
    "                         dict(\n",
    "                              C= Cs,\n",
    "                              class_weight= ['balanced',None],\n",
    "                              fit_intercept= [True,False]), \n",
    "                             verbose = 1, cv = 3, n_jobs=3, iid = True)\n",
    "    \n",
    "    # Split data\n",
    "    X_train, X_test, y_train, y_test = train_test_split(X, y, test_size=0.30, random_state=42)\n",
    "\n",
    "    # Grid Search of Model\n",
    "    estimator.fit(X_train, y_train)\n",
    "    \n",
    "    # training\n",
    "    print('TRAINING')\n",
    "    print('----'*10)\n",
    "    print(metrics.classification_report( estimator.predict(X_train), y_train))\n",
    "\n",
    "    # testing\n",
    "    print('TESTING')\n",
    "    print('----'*10)\n",
    "    print(metrics.classification_report( estimator.predict(X_test), y_test))\n",
    "    \n",
    "    #Confusion\n",
    "    skplt.metrics.plot_confusion_matrix(y_test, estimator.predict(X_test), normalize=True)\n",
    "    plt.show()\n",
    "    \n",
    "    return estimator.best_estimator_, X_train, X_test, y_train, y_test"
   ]
  },
  {
   "cell_type": "code",
   "execution_count": 4,
   "metadata": {},
   "outputs": [
    {
     "name": "stdout",
     "output_type": "stream",
     "text": [
      "15 pH unique values\n",
      "--------------------\n",
      "10 concentration_mM unique values\n",
      "--------------------\n",
      "7 temperature_C unique values\n",
      "--------------------\n",
      "7 sat time_sec unique values\n",
      "--------------------\n",
      "7 sat power_uT unique values\n",
      "--------------------\n"
     ]
    }
   ],
   "source": [
    "d = meta[['pH', 'concentration_mM','temperature_C','sat time_sec',     'sat power_uT']]\n",
    "\n",
    "for C in d.columns:  \n",
    "    print(d[C].nunique(), C + ' unique values')\n",
    "    print('--'*10)"
   ]
  },
  {
   "cell_type": "markdown",
   "metadata": {},
   "source": [
    "Note on metrics\n",
    "- precision = positive predictive value\n",
    "- recall    = sensitivity"
   ]
  },
  {
   "cell_type": "markdown",
   "metadata": {},
   "source": [
    "### pH >7.0"
   ]
  },
  {
   "cell_type": "code",
   "execution_count": 5,
   "metadata": {},
   "outputs": [
    {
     "data": {
      "text/plain": [
       "False    0.53\n",
       "True     0.47\n",
       "Name: pH, dtype: float64"
      ]
     },
     "execution_count": 5,
     "metadata": {},
     "output_type": "execute_result"
    }
   ],
   "source": [
    "(pH> 7).value_counts(normalize = True).round(2)"
   ]
  },
  {
   "cell_type": "markdown",
   "metadata": {},
   "source": [
    "## -training"
   ]
  },
  {
   "cell_type": "code",
   "execution_count": 6,
   "metadata": {},
   "outputs": [
    {
     "name": "stdout",
     "output_type": "stream",
     "text": [
      "Fitting 3 folds for each of 40 candidates, totalling 120 fits\n"
     ]
    },
    {
     "name": "stderr",
     "output_type": "stream",
     "text": [
      "[Parallel(n_jobs=3)]: Using backend LokyBackend with 3 concurrent workers.\n",
      "[Parallel(n_jobs=3)]: Done 120 out of 120 | elapsed:   25.8s finished\n"
     ]
    },
    {
     "name": "stdout",
     "output_type": "stream",
     "text": [
      "TRAINING\n",
      "----------------------------------------\n",
      "              precision    recall  f1-score   support\n",
      "\n",
      "           0       1.00      0.92      0.96       183\n",
      "           1       0.90      1.00      0.95       132\n",
      "\n",
      "   micro avg       0.96      0.96      0.96       315\n",
      "   macro avg       0.95      0.96      0.95       315\n",
      "weighted avg       0.96      0.96      0.96       315\n",
      "\n",
      "TESTING\n",
      "----------------------------------------\n",
      "              precision    recall  f1-score   support\n",
      "\n",
      "           0       0.99      0.88      0.93        80\n",
      "           1       0.84      0.98      0.91        55\n",
      "\n",
      "   micro avg       0.92      0.92      0.92       135\n",
      "   macro avg       0.91      0.93      0.92       135\n",
      "weighted avg       0.93      0.92      0.92       135\n",
      "\n"
     ]
    },
    {
     "data": {
      "image/png": "[encoded data removed]",
      "text/plain": [
       "<matplotlib.figure.Figure at 0x11f743518>"
      ]
     },
     "metadata": {},
     "output_type": "display_data"
    }
   ],
   "source": [
    "clf_01, Xtrain, Xtest, ytrain, ytest = train_logistic_regression_pipeline(X.replace(np.nan,1), pH,\n",
    "                                                                          pH_cut_off = 7.0, n_cs=10 )"
   ]
  },
  {
   "cell_type": "markdown",
   "metadata": {},
   "source": [
    "## offset importance"
   ]
  },
  {
   "cell_type": "code",
   "execution_count": 7,
   "metadata": {},
   "outputs": [
    {
     "ename": "NameError",
     "evalue": "name 'Xdata' is not defined",
     "output_type": "error",
     "traceback": [
      "\u001b[0;31m---------------------------------------------------------------------------\u001b[0m",
      "\u001b[0;31mNameError\u001b[0m                                 Traceback (most recent call last)",
      "\u001b[0;32m<ipython-input-7-d2d3ec5aa60a>\u001b[0m in \u001b[0;36m<module>\u001b[0;34m()\u001b[0m\n\u001b[0;32m----> 1\u001b[0;31m d = pd.DataFrame( index =Xdata.columns.values.flatten(), \n\u001b[0m\u001b[1;32m      2\u001b[0m                   \u001b[0mdata\u001b[0m \u001b[0;34m=\u001b[0m \u001b[0mclf_01\u001b[0m\u001b[0;34m.\u001b[0m\u001b[0mcoef_\u001b[0m\u001b[0;34m.\u001b[0m\u001b[0mflatten\u001b[0m\u001b[0;34m(\u001b[0m\u001b[0;34m)\u001b[0m\u001b[0;34m,\u001b[0m\u001b[0;34m\u001b[0m\u001b[0m\n\u001b[1;32m      3\u001b[0m                   columns=['c'])\n\u001b[1;32m      4\u001b[0m \u001b[0mprint\u001b[0m\u001b[0;34m(\u001b[0m\u001b[0;34m'L1 logistic regression selected these offsets:'\u001b[0m\u001b[0;34m,\u001b[0m\u001b[0md\u001b[0m\u001b[0;34m[\u001b[0m\u001b[0md\u001b[0m\u001b[0;34m.\u001b[0m\u001b[0mc\u001b[0m \u001b[0;34m!=\u001b[0m \u001b[0;36m0\u001b[0m\u001b[0;34m]\u001b[0m\u001b[0;34m.\u001b[0m\u001b[0mshape\u001b[0m\u001b[0;34m)\u001b[0m\u001b[0;34m\u001b[0m\u001b[0m\n\u001b[1;32m      5\u001b[0m \u001b[0md\u001b[0m\u001b[0;34m[\u001b[0m\u001b[0md\u001b[0m\u001b[0;34m.\u001b[0m\u001b[0mc\u001b[0m \u001b[0;34m!=\u001b[0m \u001b[0;36m0\u001b[0m\u001b[0;34m]\u001b[0m\u001b[0;34m\u001b[0m\u001b[0m\n",
      "\u001b[0;31mNameError\u001b[0m: name 'Xdata' is not defined"
     ]
    }
   ],
   "source": [
    "d = pd.DataFrame( index =Xdata.columns.values.flatten(), \n",
    "                  data = clf_01.coef_.flatten(), \n",
    "                  columns=['c'])\n",
    "print('L1 logistic regression selected these offsets:',d[d.c != 0].shape)\n",
    "d[d.c != 0]"
   ]
  },
  {
   "cell_type": "markdown",
   "metadata": {},
   "source": [
    "## repeat with only a few freq"
   ]
  },
  {
   "cell_type": "code",
   "execution_count": 8,
   "metadata": {},
   "outputs": [
    {
     "ename": "NameError",
     "evalue": "name 'Xdata' is not defined",
     "output_type": "error",
     "traceback": [
      "\u001b[0;31m---------------------------------------------------------------------------\u001b[0m",
      "\u001b[0;31mNameError\u001b[0m                                 Traceback (most recent call last)",
      "\u001b[0;32m<ipython-input-8-695b2f8fec7f>\u001b[0m in \u001b[0;36m<module>\u001b[0;34m()\u001b[0m\n\u001b[0;32m----> 1\u001b[0;31m clf_01, Xtrain, Xtest, ytrain, ytest = train_logistic_regression_pipeline(Xdata[d[d.c != 0].index], pH,\n\u001b[0m\u001b[1;32m      2\u001b[0m                                                                           pH_cut_off = 7.0, n_cs=10 )\n",
      "\u001b[0;31mNameError\u001b[0m: name 'Xdata' is not defined"
     ]
    }
   ],
   "source": [
    "clf_01, Xtrain, Xtest, ytrain, ytest = train_logistic_regression_pipeline(Xdata[d[d.c != 0].index], pH,\n",
    "                                                                          pH_cut_off = 7.0, n_cs=10 )"
   ]
  },
  {
   "cell_type": "markdown",
   "metadata": {},
   "source": [
    "### pH > 6.8"
   ]
  },
  {
   "cell_type": "code",
   "execution_count": null,
   "metadata": {
    "collapsed": true
   },
   "outputs": [],
   "source": [
    "(pH > 6.8).value_counts(normalize = True).round(2)"
   ]
  },
  {
   "cell_type": "code",
   "execution_count": null,
   "metadata": {
    "collapsed": true
   },
   "outputs": [],
   "source": [
    "clf_02, Xtrain, Xtest, ytrain, ytest = train_logistic_regression_pipeline(Xdata,\n",
    "                                                                          pH,  pH_cut_off = 6.8, n_cs=10 )"
   ]
  },
  {
   "cell_type": "code",
   "execution_count": null,
   "metadata": {
    "collapsed": true
   },
   "outputs": [],
   "source": [
    "d = pd.DataFrame( index =Xdata.columns.values.flatten(), \n",
    "                  data = clf_02.coef_.flatten(), \n",
    "                  columns=['c'])\n",
    "print('L1 logistic regression selected these offsets:',d[d.c != 0].shape)\n",
    "d[d.c != 0]"
   ]
  },
  {
   "cell_type": "code",
   "execution_count": null,
   "metadata": {
    "collapsed": true
   },
   "outputs": [],
   "source": [
    "clf_02b, Xtrain, Xtest, ytrain, ytest = train_logistic_regression_pipeline(Xdata[d[d.c != 0].index], pH,\n",
    "                                                                          pH_cut_off = 7.0, n_cs=10 )"
   ]
  },
  {
   "cell_type": "code",
   "execution_count": null,
   "metadata": {
    "collapsed": true
   },
   "outputs": [],
   "source": []
  }
 ],
 "metadata": {
  "anaconda-cloud": {},
  "kernelspec": {
   "display_name": "Python [conda root]",
   "language": "python",
   "name": "conda-root-py"
  },
  "language_info": {
   "codemirror_mode": {
    "name": "ipython",
    "version": 3
   },
   "file_extension": ".py",
   "mimetype": "text/x-python",
   "name": "python",
   "nbconvert_exporter": "python",
   "pygments_lexer": "ipython3",
   "version": "3.5.3"
  }
 },
 "nbformat": 4,
 "nbformat_minor": 2
}
