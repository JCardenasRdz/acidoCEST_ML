{
 "cells": [
  {
   "cell_type": "code",
   "execution_count": 3,
   "metadata": {},
   "outputs": [
    {
     "name": "stdout",
     "output_type": "stream",
     "text": [
      "1.0-jcr-logistic regression l1 new data June 2019_Gadolinium in 20mM Iopamidol.ipynb\r\n",
      "1.0-jcr-logistic regression l1 new data June 2019_Iopamidol.ipynb\r\n",
      "1.0-jcr-logistic regression l1 new data June 2019_Polymer.ipynb\r\n",
      "1.0-jcr-logistic regression l1 new data March 2019.ipynb\r\n",
      "Untitled.ipynb\r\n",
      "curve_fitting.py\r\n",
      "lorentzian fitting.ipynb\r\n"
     ]
    }
   ],
   "source": [
    "ls"
   ]
  },
  {
   "cell_type": "code",
   "execution_count": 11,
   "metadata": {},
   "outputs": [
    {
     "data": {
      "text/plain": [
       "<module 'curve_fitting' from '/Users/Julio/Google Drive/Consulting/2-MD_Anderson/repos/acidoCEST_ML/notebooks/curve_fitting.py'>"
      ]
     },
     "execution_count": 11,
     "metadata": {},
     "output_type": "execute_result"
    }
   ],
   "source": [
    "import curve_fitting as cf\n",
    "import imp\n",
    "imp.reload(cf)"
   ]
  },
  {
   "cell_type": "code",
   "execution_count": 12,
   "metadata": {
    "collapsed": true
   },
   "outputs": [],
   "source": [
    "cf.lorentzian?"
   ]
  },
  {
   "cell_type": "code",
   "execution_count": null,
   "metadata": {
    "collapsed": true
   },
   "outputs": [],
   "source": []
  }
 ],
 "metadata": {
  "anaconda-cloud": {},
  "kernelspec": {
   "display_name": "Python [conda root]",
   "language": "python",
   "name": "conda-root-py"
  },
  "language_info": {
   "codemirror_mode": {
    "name": "ipython",
    "version": 3
   },
   "file_extension": ".py",
   "mimetype": "text/x-python",
   "name": "python",
   "nbconvert_exporter": "python",
   "pygments_lexer": "ipython3",
   "version": "3.5.3"
  }
 },
 "nbformat": 4,
 "nbformat_minor": 2
}
