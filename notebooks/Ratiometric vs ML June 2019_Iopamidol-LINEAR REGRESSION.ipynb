{
 "cells": [
  {
   "cell_type": "markdown",
   "metadata": {},
   "source": [
    "### ML acidoCEST\n",
    "- Code source: [link](https://scikit-learn.org/0.15/auto_examples/plot_digits_pipe.html)\n",
    "- Modified by Julio Cardenas-Rodriguez, Ph.D.\n",
    "- CAMEL West @Tucson, AZ\n",
    "- License: TBD\n",
    "\n",
    "Change Log  \n",
    "- 2018_06_04: Initial Version"
   ]
  },
  {
   "cell_type": "markdown",
   "metadata": {},
   "source": [
    "### To -do list\n",
    "- [ ] Add r-squared\n",
    "- [ ] 4.3 and 5.5\n",
    "- [ ] Compare against raw Z-spectra\n",
    "- [ ] Compare against fitted Lorentzian for all samples\n",
    "- [ ] Compare using a single calibration curve for linear regression\n",
    "\n",
    "\n",
    "\n",
    "```python\n",
    "yhat = p(x)                         # or [p(z) for z in x]\n",
    "ybar = numpy.sum(y)/len(y)          # or sum(y)/len(y)\n",
    "ssreg = numpy.sum((yhat-ybar)**2)   # or sum([ (yihat - ybar)**2 for yihat in yhat])\n",
    "sstot = numpy.sum((y - ybar)**2)    # or sum([ (yi - ybar)**2 for yi in y])\n",
    "results['determination'] = ssreg / sstot\n",
    "```\n"
   ]
  },
  {
   "cell_type": "code",
   "execution_count": 1,
   "metadata": {
    "collapsed": true
   },
   "outputs": [],
   "source": [
    "molecules = ['Polymer',\n",
    "             ' Monomer 2 (M2)',\n",
    "             'Monomer 1 (M1)',\n",
    "             'Iopamidol',\n",
    "             'Gadolinium in 20mM Iopamidol']\n",
    "n = 3"
   ]
  },
  {
   "cell_type": "code",
   "execution_count": 2,
   "metadata": {
    "collapsed": true
   },
   "outputs": [],
   "source": [
    "### Libraries\n",
    "import numpy as np\n",
    "import pandas as pd\n",
    "import scikitplot as skplt\n",
    "import matplotlib.pyplot as plt\n",
    "\n",
    "from sklearn import linear_model, decomposition, datasets\n",
    "from sklearn.model_selection import train_test_split\n",
    "from sklearn.pipeline import Pipeline\n",
    "from sklearn.model_selection import GridSearchCV\n",
    "from sklearn import metrics\n",
    "from sklearn.decomposition import PCA\n",
    "%matplotlib inline\n",
    "\n",
    "import curve_fitting as cf\n",
    "import imp\n",
    "imp.reload(cf)\n",
    "\n",
    "def center_ppm(xdata,Y):\n",
    "    return xdata - xdata[np.argmax(1-Y)]\n",
    "    "
   ]
  },
  {
   "cell_type": "code",
   "execution_count": 3,
   "metadata": {
    "collapsed": true
   },
   "outputs": [],
   "source": [
    "data_file ='../data/raw/CEST-ML-format_mdp_20181121_230pm_JCR_CJK_20190415.xlsx'\n",
    "\n",
    "\n",
    "df         = pd.read_excel(data_file, sheetname= molecules[n])"
   ]
  },
  {
   "cell_type": "code",
   "execution_count": 4,
   "metadata": {},
   "outputs": [
    {
     "name": "stdout",
     "output_type": "stream",
     "text": [
      "Info shape \n",
      " (585, 6)\n",
      "--------------------\n",
      "X shape \n",
      " (585, 142)\n",
      "--------------------\n",
      "1 Sample ID unique values\n",
      "--------------------\n",
      "15 pH unique values\n",
      "--------------------\n",
      "7 concentration_mM unique values\n",
      "--------------------\n",
      "5 temperature_C unique values\n",
      "--------------------\n",
      "7 sat time_sec unique values\n",
      "--------------------\n",
      "6 sat power_uT unique values\n",
      "--------------------\n"
     ]
    }
   ],
   "source": [
    "info = df[['Sample ID', 'pH', 'concentration_mM','temperature_C', 'sat time_sec','sat power_uT']]\n",
    "pH = info['pH'].copy()\n",
    "print('Info shape \\n',info.shape)\n",
    "print('--'*10)\n",
    "X = df.select_dtypes(include=['float64']).drop(['pH', 'sat time_sec',     'sat power_uT'],axis = 1)\n",
    "print('X shape \\n', X.shape )\n",
    "print('--'*10)\n",
    "for C in info.columns:  \n",
    "    print(info[C].nunique(), C + ' unique values')\n",
    "    print('--'*10)"
   ]
  },
  {
   "cell_type": "markdown",
   "metadata": {},
   "source": [
    "### Some spectra"
   ]
  },
  {
   "cell_type": "code",
   "execution_count": 5,
   "metadata": {},
   "outputs": [
    {
     "data": {
      "text/html": [
       "<div>\n",
       "<style>\n",
       "    .dataframe thead tr:only-child th {\n",
       "        text-align: right;\n",
       "    }\n",
       "\n",
       "    .dataframe thead th {\n",
       "        text-align: left;\n",
       "    }\n",
       "\n",
       "    .dataframe tbody tr th {\n",
       "        vertical-align: top;\n",
       "    }\n",
       "</style>\n",
       "<table border=\"1\" class=\"dataframe\">\n",
       "  <thead>\n",
       "    <tr style=\"text-align: right;\">\n",
       "      <th></th>\n",
       "      <th>Sample ID</th>\n",
       "      <th>pH</th>\n",
       "      <th>concentration_mM</th>\n",
       "      <th>temperature_C</th>\n",
       "      <th>sat time_sec</th>\n",
       "      <th>sat power_uT</th>\n",
       "    </tr>\n",
       "  </thead>\n",
       "  <tbody>\n",
       "    <tr>\n",
       "      <th>0</th>\n",
       "      <td>Iopamidol</td>\n",
       "      <td>6.0</td>\n",
       "      <td>30</td>\n",
       "      <td>37</td>\n",
       "      <td>6.0</td>\n",
       "      <td>0.5</td>\n",
       "    </tr>\n",
       "    <tr>\n",
       "      <th>60</th>\n",
       "      <td>Iopamidol</td>\n",
       "      <td>6.0</td>\n",
       "      <td>30</td>\n",
       "      <td>37</td>\n",
       "      <td>6.0</td>\n",
       "      <td>4.0</td>\n",
       "    </tr>\n",
       "    <tr>\n",
       "      <th>120</th>\n",
       "      <td>Iopamidol</td>\n",
       "      <td>6.0</td>\n",
       "      <td>30</td>\n",
       "      <td>37</td>\n",
       "      <td>1.5</td>\n",
       "      <td>4.0</td>\n",
       "    </tr>\n",
       "    <tr>\n",
       "      <th>180</th>\n",
       "      <td>Iopamidol</td>\n",
       "      <td>6.0</td>\n",
       "      <td>30</td>\n",
       "      <td>37</td>\n",
       "      <td>6.0</td>\n",
       "      <td>4.0</td>\n",
       "    </tr>\n",
       "    <tr>\n",
       "      <th>240</th>\n",
       "      <td>Iopamidol</td>\n",
       "      <td>6.0</td>\n",
       "      <td>30</td>\n",
       "      <td>47</td>\n",
       "      <td>6.0</td>\n",
       "      <td>4.0</td>\n",
       "    </tr>\n",
       "    <tr>\n",
       "      <th>300</th>\n",
       "      <td>Iopamidol</td>\n",
       "      <td>6.0</td>\n",
       "      <td>15</td>\n",
       "      <td>37</td>\n",
       "      <td>6.0</td>\n",
       "      <td>4.0</td>\n",
       "    </tr>\n",
       "    <tr>\n",
       "      <th>360</th>\n",
       "      <td>Iopamidol</td>\n",
       "      <td>6.0</td>\n",
       "      <td>50</td>\n",
       "      <td>37</td>\n",
       "      <td>6.0</td>\n",
       "      <td>1.0</td>\n",
       "    </tr>\n",
       "    <tr>\n",
       "      <th>420</th>\n",
       "      <td>Iopamidol</td>\n",
       "      <td>6.0</td>\n",
       "      <td>50</td>\n",
       "      <td>37</td>\n",
       "      <td>0.5</td>\n",
       "      <td>4.0</td>\n",
       "    </tr>\n",
       "    <tr>\n",
       "      <th>480</th>\n",
       "      <td>Iopamidol</td>\n",
       "      <td>6.0</td>\n",
       "      <td>50</td>\n",
       "      <td>37</td>\n",
       "      <td>3.0</td>\n",
       "      <td>4.0</td>\n",
       "    </tr>\n",
       "    <tr>\n",
       "      <th>540</th>\n",
       "      <td>Iopamidol</td>\n",
       "      <td>6.0</td>\n",
       "      <td>50</td>\n",
       "      <td>32</td>\n",
       "      <td>6.0</td>\n",
       "      <td>4.0</td>\n",
       "    </tr>\n",
       "  </tbody>\n",
       "</table>\n",
       "</div>"
      ],
      "text/plain": [
       "     Sample ID   pH  concentration_mM  temperature_C  sat time_sec  \\\n",
       "0    Iopamidol  6.0                30             37           6.0   \n",
       "60   Iopamidol  6.0                30             37           6.0   \n",
       "120  Iopamidol  6.0                30             37           1.5   \n",
       "180  Iopamidol  6.0                30             37           6.0   \n",
       "240  Iopamidol  6.0                30             47           6.0   \n",
       "300  Iopamidol  6.0                15             37           6.0   \n",
       "360  Iopamidol  6.0                50             37           6.0   \n",
       "420  Iopamidol  6.0                50             37           0.5   \n",
       "480  Iopamidol  6.0                50             37           3.0   \n",
       "540  Iopamidol  6.0                50             32           6.0   \n",
       "\n",
       "     sat power_uT  \n",
       "0             0.5  \n",
       "60            4.0  \n",
       "120           4.0  \n",
       "180           4.0  \n",
       "240           4.0  \n",
       "300           4.0  \n",
       "360           1.0  \n",
       "420           4.0  \n",
       "480           4.0  \n",
       "540           4.0  "
      ]
     },
     "execution_count": 5,
     "metadata": {},
     "output_type": "execute_result"
    }
   ],
   "source": [
    "info.iloc[0::60,:]"
   ]
  },
  {
   "cell_type": "code",
   "execution_count": 6,
   "metadata": {},
   "outputs": [
    {
     "data": {
      "text/plain": [
       "<matplotlib.axes._subplots.AxesSubplot at 0x11b429048>"
      ]
     },
     "execution_count": 6,
     "metadata": {},
     "output_type": "execute_result"
    },
    {
     "data": {
      "image/png": "[encoded data removed]",
      "text/plain": [
       "<matplotlib.figure.Figure at 0x11b409ef0>"
      ]
     },
     "metadata": {},
     "output_type": "display_data"
    }
   ],
   "source": [
    "X.iloc[0::60,:].T.plot()"
   ]
  },
  {
   "cell_type": "markdown",
   "metadata": {},
   "source": [
    "## Fitting Parameters"
   ]
  },
  {
   "cell_type": "code",
   "execution_count": 7,
   "metadata": {},
   "outputs": [
    {
     "data": {
      "text/html": [
       "<div>\n",
       "<style>\n",
       "    .dataframe thead tr:only-child th {\n",
       "        text-align: right;\n",
       "    }\n",
       "\n",
       "    .dataframe thead th {\n",
       "        text-align: left;\n",
       "    }\n",
       "\n",
       "    .dataframe tbody tr th {\n",
       "        vertical-align: top;\n",
       "    }\n",
       "</style>\n",
       "<table border=\"1\" class=\"dataframe\">\n",
       "  <thead>\n",
       "    <tr style=\"text-align: right;\">\n",
       "      <th></th>\n",
       "      <th>lb</th>\n",
       "      <th>xo</th>\n",
       "      <th>ub</th>\n",
       "    </tr>\n",
       "  </thead>\n",
       "  <tbody>\n",
       "    <tr>\n",
       "      <th>A1</th>\n",
       "      <td>0.1</td>\n",
       "      <td>0.9</td>\n",
       "      <td>1.0</td>\n",
       "    </tr>\n",
       "    <tr>\n",
       "      <th>A2</th>\n",
       "      <td>0.0</td>\n",
       "      <td>0.7</td>\n",
       "      <td>0.7</td>\n",
       "    </tr>\n",
       "    <tr>\n",
       "      <th>A3</th>\n",
       "      <td>0.0</td>\n",
       "      <td>0.5</td>\n",
       "      <td>1.0</td>\n",
       "    </tr>\n",
       "    <tr>\n",
       "      <th>A4</th>\n",
       "      <td>0.0</td>\n",
       "      <td>0.5</td>\n",
       "      <td>1.0</td>\n",
       "    </tr>\n",
       "    <tr>\n",
       "      <th>W1</th>\n",
       "      <td>0.1</td>\n",
       "      <td>1.0</td>\n",
       "      <td>3.0</td>\n",
       "    </tr>\n",
       "    <tr>\n",
       "      <th>W2</th>\n",
       "      <td>0.1</td>\n",
       "      <td>1.0</td>\n",
       "      <td>2.0</td>\n",
       "    </tr>\n",
       "    <tr>\n",
       "      <th>W3</th>\n",
       "      <td>0.1</td>\n",
       "      <td>1.0</td>\n",
       "      <td>2.0</td>\n",
       "    </tr>\n",
       "    <tr>\n",
       "      <th>W4</th>\n",
       "      <td>0.1</td>\n",
       "      <td>1.0</td>\n",
       "      <td>2.0</td>\n",
       "    </tr>\n",
       "    <tr>\n",
       "      <th>C1</th>\n",
       "      <td>-0.1</td>\n",
       "      <td>0.0</td>\n",
       "      <td>0.1</td>\n",
       "    </tr>\n",
       "    <tr>\n",
       "      <th>C2</th>\n",
       "      <td>0.5</td>\n",
       "      <td>1.0</td>\n",
       "      <td>2.0</td>\n",
       "    </tr>\n",
       "    <tr>\n",
       "      <th>C3</th>\n",
       "      <td>3.2</td>\n",
       "      <td>4.2</td>\n",
       "      <td>5.2</td>\n",
       "    </tr>\n",
       "    <tr>\n",
       "      <th>C4</th>\n",
       "      <td>5.1</td>\n",
       "      <td>5.6</td>\n",
       "      <td>6.1</td>\n",
       "    </tr>\n",
       "    <tr>\n",
       "      <th>Scaling</th>\n",
       "      <td>-2.0</td>\n",
       "      <td>1.0</td>\n",
       "      <td>2.0</td>\n",
       "    </tr>\n",
       "  </tbody>\n",
       "</table>\n",
       "</div>"
      ],
      "text/plain": [
       "          lb   xo   ub\n",
       "A1       0.1  0.9  1.0\n",
       "A2       0.0  0.7  0.7\n",
       "A3       0.0  0.5  1.0\n",
       "A4       0.0  0.5  1.0\n",
       "W1       0.1  1.0  3.0\n",
       "W2       0.1  1.0  2.0\n",
       "W3       0.1  1.0  2.0\n",
       "W4       0.1  1.0  2.0\n",
       "C1      -0.1  0.0  0.1\n",
       "C2       0.5  1.0  2.0\n",
       "C3       3.2  4.2  5.2\n",
       "C4       5.1  5.6  6.1\n",
       "Scaling -2.0  1.0  2.0"
      ]
     },
     "execution_count": 7,
     "metadata": {},
     "output_type": "execute_result"
    }
   ],
   "source": [
    "a1= .9\n",
    "a2= .7\n",
    "a3= .5\n",
    "a4= .5\n",
    "\n",
    "w1= 1\n",
    "w2= 1\n",
    "w3= 1\n",
    "w4= 1\n",
    "\n",
    "c1= 0\n",
    "c2= 1\n",
    "c3= 4.2\n",
    "c4= 5.6\n",
    "\n",
    "x0 = [a1,a2,a3,a4,   w1,w2,w3,w4,  c1,    c2,   c3,   c4,  1]\n",
    "lb = [.1, 0,0,  0,   .1,.1,.1,.1,  c1-.1, .5,   c3-1, c4-.5,   -2]\n",
    "ub = [1, .7,1,1,    3, 2, 2, 2,    c1+.1, 2.0 , c3+1, c4+.5, 2]  \n",
    "\n",
    "d = pd.DataFrame(lb, columns=['lb'])\n",
    "d['xo'] = x0\n",
    "d['ub'] = ub\n",
    "\n",
    "d.index = ['A1','A2','A3','A4','W1','W2','W3','W4','C1','C2','C3','C4','Scaling']\n",
    "d"
   ]
  },
  {
   "cell_type": "markdown",
   "metadata": {},
   "source": [
    "### Test some of the fitting"
   ]
  },
  {
   "cell_type": "code",
   "execution_count": 8,
   "metadata": {},
   "outputs": [
    {
     "name": "stdout",
     "output_type": "stream",
     "text": [
      "Sample ID            NaN\n",
      "pH                  6.75\n",
      "concentration_mM      30\n",
      "temperature_C         37\n",
      "sat time_sec           6\n",
      "sat power_uT         0.5\n",
      "Name: 5, dtype: object\n"
     ]
    },
    {
     "data": {
      "image/png": "[encoded data removed]",
      "text/plain": [
       "<matplotlib.figure.Figure at 0x11c02e668>"
      ]
     },
     "metadata": {},
     "output_type": "display_data"
    }
   ],
   "source": [
    "f = 5\n",
    "s = 540\n",
    "\n",
    "\n",
    "print(info.iloc[5,:])\n",
    "\n",
    "y_data =  X.iloc[s,:].values[f::]\n",
    "x_data =  center_ppm( X.columns.values[f::], y_data)\n",
    "\n",
    "par_hat = cf.fit_lorentzian(x_data, 1-y_data, x0, lb, ub )\n",
    "yhat = cf.lorentzian(x_data,par_hat)\n",
    "\n",
    "plt.figure()\n",
    "plt.plot(x_data, y_data,'--')\n",
    "plt.plot(x_data, 1-yhat,'-')\n",
    "plt.legend(['Exp','Fitted'])\n",
    "plt.ylim([0,1.1])\n",
    "plt.show()\n",
    "\n"
   ]
  },
  {
   "cell_type": "code",
   "execution_count": 9,
   "metadata": {},
   "outputs": [
    {
     "name": "stdout",
     "output_type": "stream",
     "text": [
      "CPU times: user 1min 3s, sys: 228 ms, total: 1min 4s\n",
      "Wall time: 1min 4s\n"
     ]
    }
   ],
   "source": [
    "%%time\n",
    "info = info.assign(Peak_4p2 = 1)\n",
    "info = info.assign(Peak_5p6 = 1)\n",
    "peak_01 = []\n",
    "peak_02 = []\n",
    "for s in range(X.shape[0]):\n",
    "    y_data =  X.iloc[s,:].values[f::]\n",
    "    x_data =  center_ppm( X.columns.values[f::], y_data)\n",
    "    par_hat = cf.fit_lorentzian(x_data, 1-y_data, x0, lb, ub )\n",
    "    peak_01.append(par_hat[2])\n",
    "    peak_02.append(par_hat[3])\n",
    "    \n",
    "    # peaks for ratiometric approach\n",
    "    info.loc[s,'Peak_4p2'] = ( 1-(1-par_hat[2]) ) / (1-par_hat[2])   #par_hat[2]\n",
    "    info.loc[s,'Peak_5p6'] = ( 1-(1-par_hat[3]) ) / (1-par_hat[3])   # par_hat[3]\n",
    "    "
   ]
  },
  {
   "cell_type": "markdown",
   "metadata": {},
   "source": [
    "### Linear Model Ratios"
   ]
  },
  {
   "cell_type": "markdown",
   "metadata": {},
   "source": [
    "## - Calibration Curve"
   ]
  },
  {
   "cell_type": "code",
   "execution_count": 207,
   "metadata": {
    "collapsed": true
   },
   "outputs": [],
   "source": [
    "info['RATIO'] = np.log10( info['Peak_4p2'] / info['Peak_5p6'])\n",
    "\n",
    "f1 = info.concentration_mM == 30\n",
    "f2 = info.temperature_C == 37\n",
    "f3 = info['sat time_sec'] == 6\n",
    "f4 = info['sat power_uT'] ==3\n",
    "d = info[f1&f2&f3&f4]\n",
    "d = d[d.pH <= 7.4]"
   ]
  },
  {
   "cell_type": "code",
   "execution_count": 208,
   "metadata": {},
   "outputs": [
    {
     "data": {
      "text/html": [
       "<div>\n",
       "<style>\n",
       "    .dataframe thead tr:only-child th {\n",
       "        text-align: right;\n",
       "    }\n",
       "\n",
       "    .dataframe thead th {\n",
       "        text-align: left;\n",
       "    }\n",
       "\n",
       "    .dataframe tbody tr th {\n",
       "        vertical-align: top;\n",
       "    }\n",
       "</style>\n",
       "<table border=\"1\" class=\"dataframe\">\n",
       "  <thead>\n",
       "    <tr style=\"text-align: right;\">\n",
       "      <th></th>\n",
       "      <th>Sample ID</th>\n",
       "      <th>pH</th>\n",
       "      <th>concentration_mM</th>\n",
       "      <th>temperature_C</th>\n",
       "      <th>sat time_sec</th>\n",
       "      <th>sat power_uT</th>\n",
       "      <th>Peak_4p2</th>\n",
       "      <th>Peak_5p6</th>\n",
       "      <th>RATIO</th>\n",
       "    </tr>\n",
       "  </thead>\n",
       "  <tbody>\n",
       "    <tr>\n",
       "      <th>45</th>\n",
       "      <td>Iopamidol</td>\n",
       "      <td>6.00</td>\n",
       "      <td>30</td>\n",
       "      <td>37</td>\n",
       "      <td>6.0</td>\n",
       "      <td>3.0</td>\n",
       "      <td>0.077342</td>\n",
       "      <td>0.142377</td>\n",
       "      <td>-0.265024</td>\n",
       "    </tr>\n",
       "    <tr>\n",
       "      <th>46</th>\n",
       "      <td>NaN</td>\n",
       "      <td>6.15</td>\n",
       "      <td>30</td>\n",
       "      <td>37</td>\n",
       "      <td>6.0</td>\n",
       "      <td>3.0</td>\n",
       "      <td>0.104652</td>\n",
       "      <td>0.168066</td>\n",
       "      <td>-0.205731</td>\n",
       "    </tr>\n",
       "    <tr>\n",
       "      <th>47</th>\n",
       "      <td>NaN</td>\n",
       "      <td>6.30</td>\n",
       "      <td>30</td>\n",
       "      <td>37</td>\n",
       "      <td>6.0</td>\n",
       "      <td>3.0</td>\n",
       "      <td>0.146265</td>\n",
       "      <td>0.176628</td>\n",
       "      <td>-0.081921</td>\n",
       "    </tr>\n",
       "    <tr>\n",
       "      <th>48</th>\n",
       "      <td>NaN</td>\n",
       "      <td>6.45</td>\n",
       "      <td>30</td>\n",
       "      <td>37</td>\n",
       "      <td>6.0</td>\n",
       "      <td>3.0</td>\n",
       "      <td>0.214180</td>\n",
       "      <td>0.184572</td>\n",
       "      <td>0.064614</td>\n",
       "    </tr>\n",
       "    <tr>\n",
       "      <th>49</th>\n",
       "      <td>NaN</td>\n",
       "      <td>6.60</td>\n",
       "      <td>30</td>\n",
       "      <td>37</td>\n",
       "      <td>6.0</td>\n",
       "      <td>3.0</td>\n",
       "      <td>0.271126</td>\n",
       "      <td>0.149910</td>\n",
       "      <td>0.257342</td>\n",
       "    </tr>\n",
       "    <tr>\n",
       "      <th>50</th>\n",
       "      <td>NaN</td>\n",
       "      <td>6.75</td>\n",
       "      <td>30</td>\n",
       "      <td>37</td>\n",
       "      <td>6.0</td>\n",
       "      <td>3.0</td>\n",
       "      <td>0.345238</td>\n",
       "      <td>0.116184</td>\n",
       "      <td>0.472972</td>\n",
       "    </tr>\n",
       "    <tr>\n",
       "      <th>51</th>\n",
       "      <td>NaN</td>\n",
       "      <td>6.90</td>\n",
       "      <td>30</td>\n",
       "      <td>37</td>\n",
       "      <td>6.0</td>\n",
       "      <td>3.0</td>\n",
       "      <td>0.485333</td>\n",
       "      <td>0.068082</td>\n",
       "      <td>0.853005</td>\n",
       "    </tr>\n",
       "    <tr>\n",
       "      <th>52</th>\n",
       "      <td>NaN</td>\n",
       "      <td>7.00</td>\n",
       "      <td>30</td>\n",
       "      <td>37</td>\n",
       "      <td>6.0</td>\n",
       "      <td>3.0</td>\n",
       "      <td>0.457704</td>\n",
       "      <td>0.034537</td>\n",
       "      <td>1.122297</td>\n",
       "    </tr>\n",
       "    <tr>\n",
       "      <th>53</th>\n",
       "      <td>NaN</td>\n",
       "      <td>7.15</td>\n",
       "      <td>30</td>\n",
       "      <td>37</td>\n",
       "      <td>6.0</td>\n",
       "      <td>3.0</td>\n",
       "      <td>0.461719</td>\n",
       "      <td>0.011342</td>\n",
       "      <td>1.609688</td>\n",
       "    </tr>\n",
       "    <tr>\n",
       "      <th>54</th>\n",
       "      <td>NaN</td>\n",
       "      <td>7.30</td>\n",
       "      <td>30</td>\n",
       "      <td>37</td>\n",
       "      <td>6.0</td>\n",
       "      <td>3.0</td>\n",
       "      <td>0.371852</td>\n",
       "      <td>0.003381</td>\n",
       "      <td>2.041301</td>\n",
       "    </tr>\n",
       "  </tbody>\n",
       "</table>\n",
       "</div>"
      ],
      "text/plain": [
       "    Sample ID    pH  concentration_mM  temperature_C  sat time_sec  \\\n",
       "45  Iopamidol  6.00                30             37           6.0   \n",
       "46        NaN  6.15                30             37           6.0   \n",
       "47        NaN  6.30                30             37           6.0   \n",
       "48        NaN  6.45                30             37           6.0   \n",
       "49        NaN  6.60                30             37           6.0   \n",
       "50        NaN  6.75                30             37           6.0   \n",
       "51        NaN  6.90                30             37           6.0   \n",
       "52        NaN  7.00                30             37           6.0   \n",
       "53        NaN  7.15                30             37           6.0   \n",
       "54        NaN  7.30                30             37           6.0   \n",
       "\n",
       "    sat power_uT  Peak_4p2  Peak_5p6     RATIO  \n",
       "45           3.0  0.077342  0.142377 -0.265024  \n",
       "46           3.0  0.104652  0.168066 -0.205731  \n",
       "47           3.0  0.146265  0.176628 -0.081921  \n",
       "48           3.0  0.214180  0.184572  0.064614  \n",
       "49           3.0  0.271126  0.149910  0.257342  \n",
       "50           3.0  0.345238  0.116184  0.472972  \n",
       "51           3.0  0.485333  0.068082  0.853005  \n",
       "52           3.0  0.457704  0.034537  1.122297  \n",
       "53           3.0  0.461719  0.011342  1.609688  \n",
       "54           3.0  0.371852  0.003381  2.041301  "
      ]
     },
     "execution_count": 208,
     "metadata": {},
     "output_type": "execute_result"
    }
   ],
   "source": [
    "d"
   ]
  },
  {
   "cell_type": "code",
   "execution_count": 209,
   "metadata": {},
   "outputs": [
    {
     "name": "stdout",
     "output_type": "stream",
     "text": [
      "\n",
      "MSE \n",
      " 0.012448656107239197\n",
      "\n",
      "MSE \n",
      " 0.09766768965758796\n"
     ]
    },
    {
     "data": {
      "text/plain": [
       "(array([316.,  33.,  14.,   8.,   7.,   3.,   1.,   2.,   4.,   2.]),\n",
       " array([1.10440015e-07, 1.21046457e-01, 2.42092804e-01, 3.63139151e-01,\n",
       "        4.84185497e-01, 6.05231844e-01, 7.26278191e-01, 8.47324538e-01,\n",
       "        9.68370884e-01, 1.08941723e+00, 1.21046358e+00]),\n",
       " <a list of 10 Patch objects>)"
      ]
     },
     "execution_count": 209,
     "metadata": {},
     "output_type": "execute_result"
    },
    {
     "data": {
      "image/png": "[encoded data removed]",
      "text/plain": [
       "<matplotlib.figure.Figure at 0x11e1da0f0>"
      ]
     },
     "metadata": {},
     "output_type": "display_data"
    }
   ],
   "source": [
    "Xd = d['RATIO'].values.reshape(-1,1)\n",
    "\n",
    "LR = linear_model.LinearRegression(  fit_intercept=True)\n",
    "LR.fit(Xd,d.pH)\n",
    "pHhat = LR.predict(Xd)\n",
    "\n",
    "\n",
    "f, (ax1, ax2, ax3) = plt.subplots(1, 3, sharey=False, dpi=100)\n",
    "\n",
    "ax1.plot(d.pH, pHhat,'o')\n",
    "ax1.set_title('Calibration Curve')\n",
    "#ax1.ylim([5.5,7.5])\n",
    "\n",
    "print()\n",
    "print('MSE \\n',metrics.regression.mean_squared_error(d.pH,LR.predict(Xd)))\n",
    "\n",
    "\n",
    "## Apply Calibriton to everything\n",
    "\n",
    "I = info[info.pH <= 7.4]\n",
    "\n",
    "Xd = I['RATIO'].replace(np.inf,0)\n",
    "Xd = Xd.values.reshape(-1,1)\n",
    "\n",
    "yd = I.pH.copy()\n",
    "\n",
    "pHhat1 = LR.predict(Xd)\n",
    "\n",
    "\n",
    "ax2.plot(yd, pHhat1,'o')\n",
    "ax2.set_title('Applied to all samples')\n",
    "\n",
    "print()\n",
    "print('MSE \\n',metrics.regression.mean_squared_error(yd,pHhat1))\n",
    "\n",
    "ax3.hist( (yd - pHhat1)**2)"
   ]
  },
  {
   "cell_type": "markdown",
   "metadata": {},
   "source": [
    "## Train on all variables and test on all data"
   ]
  },
  {
   "cell_type": "code",
   "execution_count": 210,
   "metadata": {},
   "outputs": [
    {
     "name": "stdout",
     "output_type": "stream",
     "text": [
      "Fitting 3 folds for each of 4 candidates, totalling 12 fits\n"
     ]
    },
    {
     "name": "stderr",
     "output_type": "stream",
     "text": [
      "[Parallel(n_jobs=3)]: Using backend LokyBackend with 3 concurrent workers.\n",
      "[Parallel(n_jobs=3)]: Done  12 out of  12 | elapsed:    2.5s finished\n"
     ]
    },
    {
     "name": "stdout",
     "output_type": "stream",
     "text": [
      "\n",
      "MSE \n",
      " 0.0671399215043536\n"
     ]
    },
    {
     "data": {
      "image/png": "[encoded data removed]",
      "text/plain": [
       "<matplotlib.figure.Figure at 0x11e1cbf28>"
      ]
     },
     "metadata": {},
     "output_type": "display_data"
    }
   ],
   "source": [
    "model_all = train_linear_regression(Xd, yd)\n",
    "\n",
    "pHhat2 = model_all.predict(Xd)\n",
    "\n",
    "plt.scatter(yd, pHhat2)\n",
    "plt.xlabel('Expected pH')\n",
    "plt.ylabel('Predicted pH')\n",
    "plt.ylim([5.5,7.5])\n",
    "\n",
    "print()\n",
    "print('MSE \\n',metrics.regression.mean_squared_error(yd,pHhat2))"
   ]
  },
  {
   "cell_type": "markdown",
   "metadata": {},
   "source": [
    "### Train on Spectra and test on everything"
   ]
  },
  {
   "cell_type": "code",
   "execution_count": 211,
   "metadata": {},
   "outputs": [
    {
     "name": "stdout",
     "output_type": "stream",
     "text": [
      "Fitting 3 folds for each of 4 candidates, totalling 12 fits\n"
     ]
    },
    {
     "name": "stderr",
     "output_type": "stream",
     "text": [
      "[Parallel(n_jobs=3)]: Using backend LokyBackend with 3 concurrent workers.\n",
      "[Parallel(n_jobs=3)]: Done  12 out of  12 | elapsed:    0.2s finished\n"
     ]
    },
    {
     "name": "stdout",
     "output_type": "stream",
     "text": [
      "\n",
      "MSE \n",
      " 0.035727903102311914\n"
     ]
    },
    {
     "data": {
      "image/png": "[encoded data removed]",
      "text/plain": [
       "<matplotlib.figure.Figure at 0x11e4f55c0>"
      ]
     },
     "metadata": {},
     "output_type": "display_data"
    }
   ],
   "source": [
    "Xd = X[info.pH <= 7.4]\n",
    "yd = info.pH[info.pH <= 7.4]\n",
    "\n",
    "model_all = train_linear_regression(Xd, yd)\n",
    "\n",
    "pHhat3 = model_all.predict(Xd)\n",
    "\n",
    "plt.scatter(yd, pHhat3)\n",
    "plt.xlabel('Expected pH')\n",
    "plt.ylabel('Predicted pH')\n",
    "plt.ylim([5.5,7.5])\n",
    "\n",
    "\n",
    "print()\n",
    "print('MSE \\n',metrics.regression.mean_squared_error(yd,pHhat3))"
   ]
  },
  {
   "cell_type": "markdown",
   "metadata": {},
   "source": [
    "### Train on Spectra + PCA and test on everything"
   ]
  },
  {
   "cell_type": "code",
   "execution_count": 212,
   "metadata": {},
   "outputs": [
    {
     "data": {
      "text/plain": [
       "(390, 142)"
      ]
     },
     "execution_count": 212,
     "metadata": {},
     "output_type": "execute_result"
    }
   ],
   "source": [
    "Xd.shape"
   ]
  },
  {
   "cell_type": "code",
   "execution_count": 213,
   "metadata": {},
   "outputs": [
    {
     "name": "stdout",
     "output_type": "stream",
     "text": [
      "Fitting 3 folds for each of 492 candidates, totalling 1476 fits\n"
     ]
    },
    {
     "name": "stderr",
     "output_type": "stream",
     "text": [
      "[Parallel(n_jobs=3)]: Using backend LokyBackend with 3 concurrent workers.\n",
      "[Parallel(n_jobs=3)]: Done 310 tasks      | elapsed:    2.1s\n",
      "[Parallel(n_jobs=3)]: Done 1476 out of 1476 | elapsed:    9.6s finished\n"
     ]
    },
    {
     "name": "stdout",
     "output_type": "stream",
     "text": [
      "\n",
      "MSE \n",
      " 0.04169372423912112\n"
     ]
    },
    {
     "data": {
      "image/png": "[encoded data removed]",
      "text/plain": [
       "<matplotlib.figure.Figure at 0x11d552ba8>"
      ]
     },
     "metadata": {},
     "output_type": "display_data"
    }
   ],
   "source": [
    "model_pca = train_linear_reg_pipeline(Xd, yd, max_n= 125)\n",
    "\n",
    "pHhat4 = model_pca.predict(Xd)\n",
    "\n",
    "plt.scatter(yd, pHhat4)\n",
    "plt.xlabel('Expected pH')\n",
    "plt.ylabel('Predicted pH')\n",
    "plt.ylim([5.5,7.5])\n",
    "\n",
    "\n",
    "print()\n",
    "print('MSE \\n',metrics.regression.mean_squared_error(yd,pHhat4))"
   ]
  },
  {
   "cell_type": "code",
   "execution_count": 215,
   "metadata": {},
   "outputs": [
    {
     "data": {
      "text/plain": [
       "Pipeline(memory=None,\n",
       "     steps=[('pca', PCA(copy=True, iterated_power='auto', n_components=21, random_state=42,\n",
       "  svd_solver='auto', tol=0.0, whiten=False)), ('linear', LinearRegression(copy_X=True, fit_intercept=True, n_jobs=None, normalize=True))])"
      ]
     },
     "execution_count": 215,
     "metadata": {},
     "output_type": "execute_result"
    }
   ],
   "source": [
    "model_pca"
   ]
  },
  {
   "cell_type": "code",
   "execution_count": 214,
   "metadata": {},
   "outputs": [
    {
     "data": {
      "text/plain": [
       "(array([312.,  47.,  14.,   9.,   6.,   1.,   0.,   0.,   0.,   1.]),\n",
       " array([5.02518887e-07, 6.52064783e-02, 1.30412454e-01, 1.95618430e-01,\n",
       "        2.60824406e-01, 3.26030381e-01, 3.91236357e-01, 4.56442333e-01,\n",
       "        5.21648309e-01, 5.86854284e-01, 6.52060260e-01]),\n",
       " <a list of 10 Patch objects>)"
      ]
     },
     "execution_count": 214,
     "metadata": {},
     "output_type": "execute_result"
    },
    {
     "data": {
      "image/png": "[encoded data removed]",
      "text/plain": [
       "<matplotlib.figure.Figure at 0x11e4853c8>"
      ]
     },
     "metadata": {},
     "output_type": "display_data"
    }
   ],
   "source": [
    "plt.hist( (yd - pHhat4)**2)"
   ]
  },
  {
   "cell_type": "markdown",
   "metadata": {},
   "source": [
    "#### Logistic Regression"
   ]
  },
  {
   "cell_type": "code",
   "execution_count": 142,
   "metadata": {
    "collapsed": true
   },
   "outputs": [],
   "source": [
    "### define function to train model based on cuttoff for pH\n",
    "def train_linear_reg_pipeline(Spectra, pH_observed, min_n=2, max_n= 10):\n",
    "    # cut off > pH\n",
    "    y = pH_observed\n",
    "    # X data\n",
    "    X = Spectra.copy()\n",
    "        \n",
    "    # Logistic\n",
    "    linear = linear_model.LinearRegression( )\n",
    "    \n",
    "    #PCA\n",
    "    pca = PCA(random_state=42)\n",
    "    \n",
    "    # pipeline\n",
    "    pipe = Pipeline(steps=[('pca', pca), ('linear', linear)])\n",
    "    \n",
    "    # Training parameters\n",
    "    num_pca_components = np.arange(min_n,max_n,1)\n",
    "\n",
    "\n",
    "    param_grid ={\n",
    "    'pca__n_components': num_pca_components,\n",
    "    'linear__normalize': [True,False],\n",
    "    'linear__fit_intercept':[True,False]\n",
    "    }\n",
    "    \n",
    "    \n",
    "    estimator = GridSearchCV(pipe, param_grid, verbose = 1, cv = 3, n_jobs=3, iid = True)\n",
    "    \n",
    "    # Split data\n",
    "    X_train, X_test, y_train, y_test = train_test_split(X, y, test_size=0.30, random_state=42)\n",
    "\n",
    "    # Grid Search of Model\n",
    "    estimator.fit(X_train, y_train)\n",
    "\n",
    "    \n",
    "    return estimator.best_estimator_"
   ]
  },
  {
   "cell_type": "code",
   "execution_count": 110,
   "metadata": {},
   "outputs": [],
   "source": [
    "### define function to train model based on cuttoff for pH\n",
    "def train_linear_regression(Spectra, pH_observed):\n",
    "    # cut off > pH\n",
    "    y = pH_observed\n",
    "    # X data\n",
    "    X = Spectra.copy()\n",
    "        \n",
    "    # Logistic\n",
    "    linear = linear_model.LinearRegression( )\n",
    "\n",
    "    # Training parameters\n",
    "    param_grid ={\n",
    "    'normalize': [True,False],\n",
    "        'fit_intercept':[False,True]\n",
    "    }\n",
    "    \n",
    "    \n",
    "    estimator = GridSearchCV(linear, param_grid, verbose = 1, cv = 3, n_jobs=3, iid = True)\n",
    "    \n",
    "    # Split data\n",
    "    X_train, X_test, y_train, y_test = train_test_split(X, y, test_size=0.30, random_state=42)\n",
    "\n",
    "    # Grid Search of Model\n",
    "    estimator.fit(X_train, y_train)\n",
    "        \n",
    "    return estimator.best_estimator_"
   ]
  },
  {
   "cell_type": "markdown",
   "metadata": {},
   "source": [
    "    # Grid Search on Pipeline\n",
    "    estimator = GridSearchCV(logistic,\n",
    "                         dict(\n",
    "                              C= Cs,\n",
    "                              class_weight= ['balanced',None],\n",
    "                              fit_intercept= [True,False]), \n",
    "                             verbose = 1, cv = 3, n_jobs=3, iid = True)"
   ]
  },
  {
   "cell_type": "markdown",
   "metadata": {},
   "source": [
    "Note on metrics\n",
    "- precision = positive predictive value\n",
    "- recall    = sensitivity"
   ]
  },
  {
   "cell_type": "markdown",
   "metadata": {},
   "source": [
    "###  -training pH >7.0  "
   ]
  },
  {
   "cell_type": "code",
   "execution_count": null,
   "metadata": {
    "collapsed": true
   },
   "outputs": [],
   "source": [
    "(pH> 7).value_counts(normalize = True).round(2)"
   ]
  },
  {
   "cell_type": "markdown",
   "metadata": {},
   "source": [
    "### Pipeline"
   ]
  },
  {
   "cell_type": "code",
   "execution_count": null,
   "metadata": {
    "collapsed": true
   },
   "outputs": [],
   "source": [
    "s = X.shape[1]\n",
    "step_size = 1"
   ]
  },
  {
   "cell_type": "code",
   "execution_count": null,
   "metadata": {
    "collapsed": true
   },
   "outputs": [],
   "source": [
    "clf_01, Xtrain, Xtest, ytrain, ytest = train_logistic_PCA_pipeline( X.iloc[:,0:s:step_size], pH,\n",
    "                                                                           min_n=2, max_n= 10,\n",
    "                                                                           pH_cut_off = 7.0, n_cs=20 )\n",
    "\n",
    "clf_01"
   ]
  },
  {
   "cell_type": "markdown",
   "metadata": {},
   "source": [
    "### Only Logistic Regression"
   ]
  },
  {
   "cell_type": "code",
   "execution_count": null,
   "metadata": {
    "collapsed": true
   },
   "outputs": [],
   "source": [
    "clf_01, Xtrain, Xtest, ytrain, ytest = train_logistic_regression( X.iloc[:,0:s:step_size], pH,\n",
    "                                                                           pH_cut_off = 7.0, n_cs=20 )"
   ]
  },
  {
   "cell_type": "markdown",
   "metadata": {},
   "source": [
    "### pH > 6.8"
   ]
  },
  {
   "cell_type": "code",
   "execution_count": null,
   "metadata": {
    "collapsed": true
   },
   "outputs": [],
   "source": [
    "(pH > 6.8).value_counts(normalize = True).round(2)"
   ]
  },
  {
   "cell_type": "code",
   "execution_count": null,
   "metadata": {
    "collapsed": true
   },
   "outputs": [],
   "source": [
    "clf_pca, Xtrain, Xtest, ytrain, ytest = train_logistic_PCA_pipeline( X.iloc[:,0:s:1], pH,\n",
    "                                                                           min_n=2, max_n= 10,\n",
    "                                                                           pH_cut_off = 6.8, n_cs=20 )\n",
    "clf_pca"
   ]
  },
  {
   "cell_type": "markdown",
   "metadata": {
    "collapsed": true
   },
   "source": [
    "For Mart"
   ]
  },
  {
   "cell_type": "code",
   "execution_count": null,
   "metadata": {
    "collapsed": true
   },
   "outputs": [],
   "source": [
    "pca = clf_pca.named_steps['pca']"
   ]
  },
  {
   "cell_type": "code",
   "execution_count": null,
   "metadata": {
    "collapsed": true
   },
   "outputs": [],
   "source": [
    "pca.transform(X.iloc[250:251,:])"
   ]
  },
  {
   "cell_type": "code",
   "execution_count": null,
   "metadata": {
    "collapsed": true
   },
   "outputs": [],
   "source": [
    "clf_pca.predict(X)"
   ]
  },
  {
   "cell_type": "code",
   "execution_count": null,
   "metadata": {
    "collapsed": true
   },
   "outputs": [],
   "source": []
  }
 ],
 "metadata": {
  "anaconda-cloud": {},
  "kernelspec": {
   "display_name": "Python [conda root]",
   "language": "python",
   "name": "conda-root-py"
  },
  "language_info": {
   "codemirror_mode": {
    "name": "ipython",
    "version": 3
   },
   "file_extension": ".py",
   "mimetype": "text/x-python",
   "name": "python",
   "nbconvert_exporter": "python",
   "pygments_lexer": "ipython3",
   "version": "3.5.3"
  }
 },
 "nbformat": 4,
 "nbformat_minor": 2
}
