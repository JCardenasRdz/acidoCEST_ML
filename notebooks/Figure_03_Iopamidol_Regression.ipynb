{
 "cells": [
  {
   "cell_type": "markdown",
   "metadata": {},
   "source": [
    "### ML acidoCEST Figure 03 Iopamido Regression"
   ]
  },
  {
   "cell_type": "markdown",
   "metadata": {},
   "source": [
    "### To -do list\n",
    "- [ ] Panel A classic calibration"
   ]
  },
  {
   "cell_type": "code",
   "execution_count": 1,
   "metadata": {
    "collapsed": true
   },
   "outputs": [],
   "source": [
    "### Libraries\n",
    "import numpy as np\n",
    "import pandas as pd\n",
    "import scikitplot as skplt\n",
    "import matplotlib.pyplot as plt\n",
    "\n",
    "from sklearn import linear_model, decomposition, datasets\n",
    "from sklearn.model_selection import train_test_split\n",
    "from sklearn.pipeline import Pipeline\n",
    "from sklearn.model_selection import GridSearchCV\n",
    "from sklearn import metrics\n",
    "from sklearn.decomposition import PCA\n",
    "import seaborn as sns\n",
    "%matplotlib inline\n",
    "\n",
    "import curve_fitting as cf\n",
    "import imp\n",
    "imp.reload(cf)\n",
    "\n",
    "def center_ppm(xdata,Y):\n",
    "    return xdata - xdata[np.argmax(1-Y)]\n",
    "    "
   ]
  },
  {
   "cell_type": "code",
   "execution_count": 304,
   "metadata": {
    "collapsed": true
   },
   "outputs": [],
   "source": [
    "def get_data(mol_n):\n",
    "    molecules = ['Polymer',' Monomer 2 (M2)','Monomer 1 (M1)','Iopamidol','Gadolinium in 20mM Iopamidol']\n",
    "    \n",
    "    data_file ='../data/raw/CEST-ML-format_cjk_20190528_updated polymer saturation power.xlsx'\n",
    "    \n",
    "    print(molecules[mol_n])\n",
    "    df = pd.read_excel(data_file, sheetname= molecules[mol_n])\n",
    "    \n",
    "    info = df[['Sample ID', 'pH', 'concentration_mM','temperature_C', 'sat time_sec','sat power_uT']]\n",
    "    pH = info['pH'].copy()\n",
    "    print('Info shape \\n',info.shape)\n",
    "    print('--'*10)\n",
    "    X = df.select_dtypes(include=['float64']).drop(['pH', 'sat time_sec',     'sat power_uT'],axis = 1)\n",
    "    print('X shape \\n', X.shape )\n",
    "    print('--'*10)\n",
    "    for C in info.columns:  \n",
    "        print(info[C].nunique(), C + ' unique values')\n",
    "        print('--'*10)\n",
    "        \n",
    "    return info, pH, X"
   ]
  },
  {
   "cell_type": "code",
   "execution_count": 305,
   "metadata": {
    "collapsed": true
   },
   "outputs": [],
   "source": [
    "### define function to train model based on cuttoff for pH\n",
    "def train_linear_regression(Spectra, pH_observed):\n",
    "    # cut off > pH\n",
    "    y = pH_observed\n",
    "    # X data\n",
    "    X = Spectra.copy()\n",
    "        \n",
    "    # Logistic\n",
    "    linear = linear_model.LinearRegression( )\n",
    "\n",
    "    # Training parameters\n",
    "    param_grid ={\n",
    "    'normalize': [True,False],\n",
    "        'fit_intercept':[False,True]\n",
    "    }\n",
    "    \n",
    "    \n",
    "    estimator = GridSearchCV(linear, param_grid, verbose = 1, cv = 3, n_jobs=3, iid = True)\n",
    "    \n",
    "    # Split data\n",
    "    X_train, X_test, y_train, y_test = train_test_split(X, y, test_size=0.30, random_state=42)\n",
    "\n",
    "    # Grid Search of Model\n",
    "    estimator.fit(X_train, y_train)\n",
    "        \n",
    "    return estimator.best_estimator_\n",
    "\n",
    "### define function to train model based on cuttoff for pH\n",
    "def train_linear_reg_pipeline(Spectra, pH_observed, min_n=2, max_n= 10):\n",
    "    # cut off > pH\n",
    "    y = pH_observed\n",
    "    # X data\n",
    "    X = Spectra.copy()\n",
    "        \n",
    "    # Logistic\n",
    "    linear = linear_model.LinearRegression( )\n",
    "    \n",
    "    #PCA\n",
    "    pca = PCA(random_state=42)\n",
    "    \n",
    "    # pipeline\n",
    "    pipe = Pipeline(steps=[('pca', pca), ('linear', linear)])\n",
    "    \n",
    "    # Training parameters\n",
    "    num_pca_components = np.arange(min_n,max_n,1)\n",
    "\n",
    "\n",
    "    param_grid ={\n",
    "    'pca__n_components': num_pca_components,\n",
    "    'linear__normalize': [True,False],\n",
    "    'linear__fit_intercept':[True,False]\n",
    "    }\n",
    "    \n",
    "    \n",
    "    estimator = GridSearchCV(pipe, param_grid, verbose = 1, cv = 3, n_jobs=3, iid = True)\n",
    "    \n",
    "    # Split data\n",
    "    X_train, X_test, y_train, y_test = train_test_split(X, y, test_size=0.30, random_state=42)\n",
    "\n",
    "    # Grid Search of Model\"\n",
    "    estimator.fit(X_train, y_train)\n",
    "\n",
    "    \n",
    "    return estimator.best_estimator_"
   ]
  },
  {
   "cell_type": "markdown",
   "metadata": {},
   "source": [
    "### Get raw data for Iopamidol"
   ]
  },
  {
   "cell_type": "code",
   "execution_count": 270,
   "metadata": {},
   "outputs": [
    {
     "data": {
      "text/plain": [
       "(585, 10)"
      ]
     },
     "execution_count": 270,
     "metadata": {},
     "output_type": "execute_result"
    }
   ],
   "source": [
    "info.shape"
   ]
  },
  {
   "cell_type": "code",
   "execution_count": 273,
   "metadata": {},
   "outputs": [
    {
     "data": {
      "text/plain": [
       "concentration_mM  temperature_C  sat time_sec  sat power_uT\n",
       "1                 37             6.0           4.0             15\n",
       "5                 37             6.0           4.0             15\n",
       "10                37             6.0           4.0             15\n",
       "15                37             6.0           4.0             15\n",
       "20                37             6.0           4.0             15\n",
       "30                27             6.0           4.0             15\n",
       "                  32             6.0           4.0             15\n",
       "                  37             0.5           4.0             15\n",
       "                                 1.0           4.0             15\n",
       "                                 1.5           4.0             15\n",
       "                                 2.0           4.0             15\n",
       "                                 3.0           4.0             15\n",
       "                                 4.0           4.0             15\n",
       "                                 6.0           0.5             15\n",
       "                                               1.0             15\n",
       "                                               2.0             15\n",
       "                                               3.0             15\n",
       "                                               4.0             15\n",
       "                                               6.0             15\n",
       "                  42             6.0           4.0             15\n",
       "                  47             6.0           4.0             15\n",
       "50                27             6.0           4.0             15\n",
       "                  32             6.0           4.0             15\n",
       "                  37             0.5           4.0             15\n",
       "                                 1.0           4.0             15\n",
       "                                 1.5           4.0             15\n",
       "                                 2.0           4.0             15\n",
       "                                 3.0           4.0             15\n",
       "                                 4.0           4.0             15\n",
       "                                 6.0           0.5             15\n",
       "                                               1.0             15\n",
       "                                               2.0             15\n",
       "                                               3.0             15\n",
       "                                               4.0             15\n",
       "                                               6.0             15\n",
       "                  42             6.0           4.0             15\n",
       "                  47             6.0           4.0             15\n",
       "dtype: int64"
      ]
     },
     "execution_count": 273,
     "metadata": {},
     "output_type": "execute_result"
    }
   ],
   "source": [
    "info['id']= np.arange(info.shape[0])\n",
    "\n",
    "info2 = info.drop_duplicates(subset=['concentration_mM', 'temperature_C','sat time_sec','sat power_uT','pH'])\n",
    "info2.groupby(['concentration_mM','temperature_C','sat time_sec','sat power_uT']).size()"
   ]
  },
  {
   "cell_type": "code",
   "execution_count": 246,
   "metadata": {},
   "outputs": [
    {
     "data": {
      "text/html": [
       "<div>\n",
       "<style>\n",
       "    .dataframe thead tr:only-child th {\n",
       "        text-align: right;\n",
       "    }\n",
       "\n",
       "    .dataframe thead th {\n",
       "        text-align: left;\n",
       "    }\n",
       "\n",
       "    .dataframe tbody tr th {\n",
       "        vertical-align: top;\n",
       "    }\n",
       "</style>\n",
       "<table border=\"1\" class=\"dataframe\">\n",
       "  <thead>\n",
       "    <tr style=\"text-align: right;\">\n",
       "      <th></th>\n",
       "      <th>Sample ID</th>\n",
       "      <th>pH</th>\n",
       "      <th>concentration_mM</th>\n",
       "      <th>temperature_C</th>\n",
       "      <th>sat time_sec</th>\n",
       "      <th>sat power_uT</th>\n",
       "      <th>Peak_4p2</th>\n",
       "      <th>Peak_5p6</th>\n",
       "      <th>RATIO</th>\n",
       "    </tr>\n",
       "  </thead>\n",
       "  <tbody>\n",
       "    <tr>\n",
       "      <th>0</th>\n",
       "      <td>Iopamidol</td>\n",
       "      <td>6.00</td>\n",
       "      <td>30</td>\n",
       "      <td>37</td>\n",
       "      <td>6.0</td>\n",
       "      <td>0.5</td>\n",
       "      <td>0.007799</td>\n",
       "      <td>0.014624</td>\n",
       "      <td>-0.273045</td>\n",
       "    </tr>\n",
       "    <tr>\n",
       "      <th>1</th>\n",
       "      <td>NaN</td>\n",
       "      <td>6.15</td>\n",
       "      <td>30</td>\n",
       "      <td>37</td>\n",
       "      <td>6.0</td>\n",
       "      <td>0.5</td>\n",
       "      <td>0.009530</td>\n",
       "      <td>0.017865</td>\n",
       "      <td>-0.272914</td>\n",
       "    </tr>\n",
       "  </tbody>\n",
       "</table>\n",
       "</div>"
      ],
      "text/plain": [
       "   Sample ID    pH  concentration_mM  temperature_C  sat time_sec  \\\n",
       "0  Iopamidol  6.00                30             37           6.0   \n",
       "1        NaN  6.15                30             37           6.0   \n",
       "\n",
       "   sat power_uT  Peak_4p2  Peak_5p6     RATIO  \n",
       "0           0.5  0.007799  0.014624 -0.273045  \n",
       "1           0.5  0.009530  0.017865 -0.272914  "
      ]
     },
     "execution_count": 246,
     "metadata": {},
     "output_type": "execute_result"
    }
   ],
   "source": [
    "info.head(2)"
   ]
  },
  {
   "cell_type": "code",
   "execution_count": 307,
   "metadata": {},
   "outputs": [],
   "source": [
    "info.groupby(['concentration_mM','temperature_C','sat time_sec','sat power_uT','pH']).size().to_excel('temp.xlsx')"
   ]
  },
  {
   "cell_type": "code",
   "execution_count": 245,
   "metadata": {},
   "outputs": [
    {
     "data": {
      "text/plain": [
       "50    255\n",
       "30    255\n",
       "20     15\n",
       "15     15\n",
       "10     15\n",
       "5      15\n",
       "1      15\n",
       "Name: concentration_mM, dtype: int64"
      ]
     },
     "execution_count": 245,
     "metadata": {},
     "output_type": "execute_result"
    }
   ],
   "source": [
    "info.concentration_mM.value_counts(normalize=0)"
   ]
  },
  {
   "cell_type": "code",
   "execution_count": 253,
   "metadata": {},
   "outputs": [
    {
     "data": {
      "text/plain": [
       "245"
      ]
     },
     "execution_count": 253,
     "metadata": {},
     "output_type": "execute_result"
    }
   ],
   "source": [
    "7*5*7"
   ]
  },
  {
   "cell_type": "code",
   "execution_count": 306,
   "metadata": {},
   "outputs": [
    {
     "name": "stdout",
     "output_type": "stream",
     "text": [
      "Iopamidol\n",
      "Info shape \n",
      " (615, 6)\n",
      "--------------------\n",
      "X shape \n",
      " (615, 142)\n",
      "--------------------\n",
      "1 Sample ID unique values\n",
      "--------------------\n",
      "15 pH unique values\n",
      "--------------------\n",
      "7 concentration_mM unique values\n",
      "--------------------\n",
      "5 temperature_C unique values\n",
      "--------------------\n",
      "7 sat time_sec unique values\n",
      "--------------------\n",
      "6 sat power_uT unique values\n",
      "--------------------\n"
     ]
    }
   ],
   "source": [
    "info, pH, X = get_data(3)"
   ]
  },
  {
   "cell_type": "markdown",
   "metadata": {},
   "source": [
    "## Lorentzian Fitting Parameters"
   ]
  },
  {
   "cell_type": "code",
   "execution_count": 6,
   "metadata": {},
   "outputs": [
    {
     "data": {
      "text/html": [
       "<div>\n",
       "<style>\n",
       "    .dataframe thead tr:only-child th {\n",
       "        text-align: right;\n",
       "    }\n",
       "\n",
       "    .dataframe thead th {\n",
       "        text-align: left;\n",
       "    }\n",
       "\n",
       "    .dataframe tbody tr th {\n",
       "        vertical-align: top;\n",
       "    }\n",
       "</style>\n",
       "<table border=\"1\" class=\"dataframe\">\n",
       "  <thead>\n",
       "    <tr style=\"text-align: right;\">\n",
       "      <th></th>\n",
       "      <th>lb</th>\n",
       "      <th>xo</th>\n",
       "      <th>ub</th>\n",
       "    </tr>\n",
       "  </thead>\n",
       "  <tbody>\n",
       "    <tr>\n",
       "      <th>A1</th>\n",
       "      <td>0.1</td>\n",
       "      <td>0.9</td>\n",
       "      <td>1.0</td>\n",
       "    </tr>\n",
       "    <tr>\n",
       "      <th>A2</th>\n",
       "      <td>0.0</td>\n",
       "      <td>0.7</td>\n",
       "      <td>0.7</td>\n",
       "    </tr>\n",
       "    <tr>\n",
       "      <th>A3</th>\n",
       "      <td>0.0</td>\n",
       "      <td>0.5</td>\n",
       "      <td>1.0</td>\n",
       "    </tr>\n",
       "    <tr>\n",
       "      <th>A4</th>\n",
       "      <td>0.0</td>\n",
       "      <td>0.5</td>\n",
       "      <td>1.0</td>\n",
       "    </tr>\n",
       "    <tr>\n",
       "      <th>W1</th>\n",
       "      <td>0.1</td>\n",
       "      <td>1.0</td>\n",
       "      <td>3.0</td>\n",
       "    </tr>\n",
       "    <tr>\n",
       "      <th>W2</th>\n",
       "      <td>0.1</td>\n",
       "      <td>1.0</td>\n",
       "      <td>2.0</td>\n",
       "    </tr>\n",
       "    <tr>\n",
       "      <th>W3</th>\n",
       "      <td>0.1</td>\n",
       "      <td>1.0</td>\n",
       "      <td>2.0</td>\n",
       "    </tr>\n",
       "    <tr>\n",
       "      <th>W4</th>\n",
       "      <td>0.1</td>\n",
       "      <td>1.0</td>\n",
       "      <td>2.0</td>\n",
       "    </tr>\n",
       "    <tr>\n",
       "      <th>C1</th>\n",
       "      <td>-0.1</td>\n",
       "      <td>0.0</td>\n",
       "      <td>0.1</td>\n",
       "    </tr>\n",
       "    <tr>\n",
       "      <th>C2</th>\n",
       "      <td>0.5</td>\n",
       "      <td>1.0</td>\n",
       "      <td>2.0</td>\n",
       "    </tr>\n",
       "    <tr>\n",
       "      <th>C3</th>\n",
       "      <td>3.2</td>\n",
       "      <td>4.2</td>\n",
       "      <td>5.2</td>\n",
       "    </tr>\n",
       "    <tr>\n",
       "      <th>C4</th>\n",
       "      <td>5.1</td>\n",
       "      <td>5.6</td>\n",
       "      <td>6.1</td>\n",
       "    </tr>\n",
       "    <tr>\n",
       "      <th>Scaling</th>\n",
       "      <td>-2.0</td>\n",
       "      <td>1.0</td>\n",
       "      <td>2.0</td>\n",
       "    </tr>\n",
       "  </tbody>\n",
       "</table>\n",
       "</div>"
      ],
      "text/plain": [
       "          lb   xo   ub\n",
       "A1       0.1  0.9  1.0\n",
       "A2       0.0  0.7  0.7\n",
       "A3       0.0  0.5  1.0\n",
       "A4       0.0  0.5  1.0\n",
       "W1       0.1  1.0  3.0\n",
       "W2       0.1  1.0  2.0\n",
       "W3       0.1  1.0  2.0\n",
       "W4       0.1  1.0  2.0\n",
       "C1      -0.1  0.0  0.1\n",
       "C2       0.5  1.0  2.0\n",
       "C3       3.2  4.2  5.2\n",
       "C4       5.1  5.6  6.1\n",
       "Scaling -2.0  1.0  2.0"
      ]
     },
     "execution_count": 6,
     "metadata": {},
     "output_type": "execute_result"
    }
   ],
   "source": [
    "a1= .9\n",
    "a2= .7\n",
    "a3= .5\n",
    "a4= .5\n",
    "\n",
    "w1= 1\n",
    "w2= 1\n",
    "w3= 1\n",
    "w4= 1\n",
    "\n",
    "c1= 0\n",
    "c2= 1\n",
    "c3= 4.2\n",
    "c4= 5.6\n",
    "\n",
    "x0 = [a1,a2,a3,a4,   w1,w2,w3,w4,  c1,    c2,   c3,   c4,  1]\n",
    "lb = [.1, 0,0,  0,   .1,.1,.1,.1,  c1-.1, .5,   c3-1, c4-.5,   -2]\n",
    "ub = [1, .7,1,1,    3, 2, 2, 2,    c1+.1, 2.0 , c3+1, c4+.5, 2]  \n",
    "\n",
    "d = pd.DataFrame(lb, columns=['lb'])\n",
    "d['xo'] = x0\n",
    "d['ub'] = ub\n",
    "\n",
    "d.index = ['A1','A2','A3','A4','W1','W2','W3','W4','C1','C2','C3','C4','Scaling']\n",
    "d"
   ]
  },
  {
   "cell_type": "markdown",
   "metadata": {},
   "source": [
    "### Test some of the fitting"
   ]
  },
  {
   "cell_type": "code",
   "execution_count": 7,
   "metadata": {},
   "outputs": [
    {
     "name": "stdout",
     "output_type": "stream",
     "text": [
      "Sample ID            NaN\n",
      "pH                  6.75\n",
      "concentration_mM      30\n",
      "temperature_C         37\n",
      "sat time_sec           6\n",
      "sat power_uT         0.5\n",
      "Name: 5, dtype: object\n"
     ]
    },
    {
     "data": {
      "image/png": "[encoded data removed]",
      "text/plain": [
       "<matplotlib.figure.Figure at 0x117d7a4a8>"
      ]
     },
     "metadata": {},
     "output_type": "display_data"
    }
   ],
   "source": [
    "f = 5\n",
    "s = 540\n",
    "\n",
    "\n",
    "print(info.iloc[5,:])\n",
    "\n",
    "y_data =  X.iloc[s,:].values[f::]\n",
    "x_data =  center_ppm( X.columns.values[f::], y_data)\n",
    "\n",
    "par_hat = cf.fit_lorentzian(x_data, 1-y_data, x0, lb, ub )\n",
    "yhat = cf.lorentzian(x_data,par_hat)\n",
    "\n",
    "plt.figure()\n",
    "plt.plot(x_data, y_data,'--')\n",
    "plt.plot(x_data, 1-yhat,'-')\n",
    "plt.legend(['Exp','Fitted'])\n",
    "plt.ylim([0,1.1])\n",
    "plt.show()\n",
    "\n"
   ]
  },
  {
   "cell_type": "markdown",
   "metadata": {},
   "source": [
    "### Lorentzian Fitting"
   ]
  },
  {
   "cell_type": "code",
   "execution_count": 9,
   "metadata": {},
   "outputs": [
    {
     "name": "stdout",
     "output_type": "stream",
     "text": [
      "CPU times: user 1min 4s, sys: 197 ms, total: 1min 4s\n",
      "Wall time: 1min 4s\n"
     ]
    }
   ],
   "source": [
    "%%time\n",
    "info = info.assign(Peak_4p2 = 1)\n",
    "info = info.assign(Peak_5p6 = 1)\n",
    "peak_01 = []\n",
    "peak_02 = []\n",
    "\n",
    "for s in range(X.shape[0]):\n",
    "    y_data =  X.iloc[s,:].values[f::]\n",
    "    x_data =  center_ppm( X.columns.values[f::], y_data)\n",
    "    par_hat = cf.fit_lorentzian(x_data, 1-y_data, x0, lb, ub )\n",
    "    peak_01.append(par_hat[2])\n",
    "    peak_02.append(par_hat[3])\n",
    "    \n",
    "    # peaks for ratiometric approach\n",
    "    info.loc[s,'Peak_4p2'] = ( 1-(1-par_hat[2]) ) / (1-par_hat[2])   #par_hat[2]\n",
    "    info.loc[s,'Peak_5p6'] = ( 1-(1-par_hat[3]) ) / (1-par_hat[3])   # par_hat[3]\n",
    "    "
   ]
  },
  {
   "cell_type": "markdown",
   "metadata": {},
   "source": [
    "### - Calibration Curve: Method 01: Lorentzian ---> Some exp conditions"
   ]
  },
  {
   "cell_type": "code",
   "execution_count": 274,
   "metadata": {},
   "outputs": [
    {
     "name": "stdout",
     "output_type": "stream",
     "text": [
      "Coef [0.88098966]\n",
      "intercept_ 6.34167143818629\n"
     ]
    },
    {
     "name": "stderr",
     "output_type": "stream",
     "text": [
      "/Users/Julio/anaconda/lib/python3.5/site-packages/scipy/stats/stats.py:1633: FutureWarning: Using a non-tuple sequence for multidimensional indexing is deprecated; use `arr[tuple(seq)]` instead of `arr[seq]`. In the future this will be interpreted as an array index, `arr[np.array(seq)]`, which will result either in an error or a different result.\n",
      "  return np.add.reduce(sorted[indexer] * weights, axis=axis) / sumval\n"
     ]
    },
    {
     "data": {
      "text/plain": [
       "<matplotlib.axes._subplots.AxesSubplot at 0x11ea0f470>"
      ]
     },
     "execution_count": 274,
     "metadata": {},
     "output_type": "execute_result"
    },
    {
     "data": {
      "image/png": "[encoded data removed]",
      "text/plain": [
       "<matplotlib.figure.Figure at 0x11eafbe80>"
      ]
     },
     "metadata": {},
     "output_type": "display_data"
    }
   ],
   "source": [
    "def cal_curve_classic():\n",
    "    info['RATIO'] = np.log10( info['Peak_4p2'] / info['Peak_5p6'])\n",
    "\n",
    "    f1 = info.concentration_mM == 30\n",
    "    f2 = info.temperature_C == 37\n",
    "    f3 = info['sat time_sec'] == 6\n",
    "    f4 = info['sat power_uT'] ==4\n",
    "    d = info[f1&f2&f3&f4]\n",
    "    d = d[d.pH <= 7.2]\n",
    "\n",
    "    Xd = d['RATIO'].values.reshape(-1,1)\n",
    "\n",
    "    LR = linear_model.LinearRegression(  fit_intercept=True)\n",
    "    LR.fit(Xd,d.pH)\n",
    "    pHhat = LR.predict(Xd)\n",
    "    \n",
    "    return LR, Xd, d.pH\n",
    "\n",
    "\n",
    "model_01 , Xd01, pH01 = cal_curve_classic()\n",
    "print( 'Coef', model_01.coef_)\n",
    "print( 'intercept_', model_01.intercept_)\n",
    "\n",
    "sns.regplot(x=pH01, y=model_01.predict(Xd01))"
   ]
  },
  {
   "cell_type": "markdown",
   "metadata": {},
   "source": [
    "### - Calibration Curve: Method 02: Lorentzian ---> `ALL` exp conditions & Cross validation"
   ]
  },
  {
   "cell_type": "code",
   "execution_count": 281,
   "metadata": {},
   "outputs": [],
   "source": [
    "f1 = info2['sat power_uT'] == 4\n",
    "f2 = info2['temperature_C'] == 37\n",
    "f3 = info2['sat time_sec'] == 6.0\n",
    "\n",
    "info3 = info2[f1&f2&f3].copy()\n"
   ]
  },
  {
   "cell_type": "code",
   "execution_count": 298,
   "metadata": {},
   "outputs": [
    {
     "name": "stdout",
     "output_type": "stream",
     "text": [
      "Fitting 3 folds for each of 4 candidates, totalling 12 fits\n"
     ]
    },
    {
     "name": "stderr",
     "output_type": "stream",
     "text": [
      "[Parallel(n_jobs=3)]: Using backend LokyBackend with 3 concurrent workers.\n",
      "[Parallel(n_jobs=3)]: Done  12 out of  12 | elapsed:    0.0s finished\n",
      "/Users/Julio/anaconda/lib/python3.5/site-packages/scipy/stats/stats.py:1633: FutureWarning: Using a non-tuple sequence for multidimensional indexing is deprecated; use `arr[tuple(seq)]` instead of `arr[seq]`. In the future this will be interpreted as an array index, `arr[np.array(seq)]`, which will result either in an error or a different result.\n",
      "  return np.add.reduce(sorted[indexer] * weights, axis=axis) / sumval\n"
     ]
    },
    {
     "name": "stdout",
     "output_type": "stream",
     "text": [
      "Coef [[0.81094276]]\n",
      "intercept_ [6.36420612]\n"
     ]
    },
    {
     "data": {
      "image/png": "[encoded data removed]",
      "text/plain": [
       "<matplotlib.figure.Figure at 0x11f0ac160>"
      ]
     },
     "metadata": {},
     "output_type": "display_data"
    }
   ],
   "source": [
    "def cal_curve_classic_all_exp(cut = 7.2):\n",
    "    \n",
    "    d = info3[info3.pH <= cut]\n",
    "    \n",
    "    X = d.RATIO.replace([np.inf],[0]).values.reshape(-1,1)\n",
    "    y = d.pH.values.reshape(-1,1)\n",
    "    \n",
    "    LR2 = train_linear_regression(X,y) \n",
    "    \n",
    "    #LR2 = linear_model.LinearRegression(  fit_intercept=True)\n",
    "    #LR2.fit(X,y)\n",
    "\n",
    "    \n",
    "    return LR2, X, y, d\n",
    "\n",
    "model_02 , Xd02, pH02, d = cal_curve_classic_all_exp(cut = 7.2)\n",
    "\n",
    "z = pd.DataFrame(pH02, columns=['pH'])\n",
    "z['pH_pred'] = model_02.predict(Xd02)\n",
    "sns.regplot(x='pH', y='pH_pred', data=z)\n",
    "plt.xlim([5.5, 7.5])\n",
    "plt.ylim([5.5, 7.5])\n",
    "\n",
    "print( 'Coef', model_02.coef_)\n",
    "print( 'intercept_', model_02.intercept_)"
   ]
  },
  {
   "cell_type": "code",
   "execution_count": 294,
   "metadata": {},
   "outputs": [
    {
     "data": {
      "text/plain": [
       "(63, 1)"
      ]
     },
     "execution_count": 294,
     "metadata": {},
     "output_type": "execute_result"
    }
   ],
   "source": [
    "pH02.shape"
   ]
  },
  {
   "cell_type": "code",
   "execution_count": 299,
   "metadata": {},
   "outputs": [
    {
     "data": {
      "text/plain": [
       "(63,)"
      ]
     },
     "execution_count": 299,
     "metadata": {},
     "output_type": "execute_result"
    }
   ],
   "source": [
    "d.concentration_mM.shape"
   ]
  },
  {
   "cell_type": "code",
   "execution_count": 303,
   "metadata": {},
   "outputs": [
    {
     "data": {
      "text/plain": [
       "<matplotlib.colorbar.Colorbar at 0x11f690f98>"
      ]
     },
     "execution_count": 303,
     "metadata": {},
     "output_type": "execute_result"
    },
    {
     "data": {
      "image/png": "[encoded data removed]",
      "text/plain": [
       "<matplotlib.figure.Figure at 0x11f55ef60>"
      ]
     },
     "metadata": {},
     "output_type": "display_data"
    }
   ],
   "source": [
    "plt.scatter(pH02, model_02.predict(Xd02), c = d.concentration_mM, cmap='PiYG')\n",
    "plt.colorbar()"
   ]
  },
  {
   "cell_type": "code",
   "execution_count": 227,
   "metadata": {},
   "outputs": [
    {
     "data": {
      "text/plain": [
       "array([[-0.26502383],\n",
       "       [-0.20573067],\n",
       "       [-0.08192083],\n",
       "       [ 0.06461435],\n",
       "       [ 0.25734247],\n",
       "       [ 0.47297204],\n",
       "       [ 0.85300502],\n",
       "       [ 1.12229746],\n",
       "       [ 1.60968846]])"
      ]
     },
     "execution_count": 227,
     "metadata": {},
     "output_type": "execute_result"
    }
   ],
   "source": [
    "z = pd.DataFrame(pH02, columns=['pH'])\n",
    "z['pH_pred'] = model_02.predict(Xd02)\n",
    "sns.regplot(x='pH', y='pH_pred', data=z)\n",
    "plt.xlim([5.5, 7.5])\n",
    "plt.ylim([5.5, 7.5])\n",
    "\n",
    "print( 'Coef', model_02.coef_)\n",
    "print( 'intercept_', model_02.intercept_)"
   ]
  },
  {
   "cell_type": "code",
   "execution_count": 228,
   "metadata": {},
   "outputs": [
    {
     "data": {
      "text/plain": [
       "0.9238072553445406"
      ]
     },
     "execution_count": 228,
     "metadata": {},
     "output_type": "execute_result"
    }
   ],
   "source": [
    "metrics.r2_score(pH01, model_01.predict(Xd01))"
   ]
  },
  {
   "cell_type": "code",
   "execution_count": 229,
   "metadata": {},
   "outputs": [
    {
     "data": {
      "text/plain": [
       "0.5607435916165995"
      ]
     },
     "execution_count": 229,
     "metadata": {},
     "output_type": "execute_result"
    }
   ],
   "source": [
    "metrics.r2_score(pH02, model_01.predict(Xd02))"
   ]
  },
  {
   "cell_type": "code",
   "execution_count": 230,
   "metadata": {},
   "outputs": [
    {
     "data": {
      "text/plain": [
       "0.6662576938356711"
      ]
     },
     "execution_count": 230,
     "metadata": {},
     "output_type": "execute_result"
    }
   ],
   "source": [
    "metrics.r2_score(pH02, model_02.predict(Xd02))"
   ]
  },
  {
   "cell_type": "code",
   "execution_count": 231,
   "metadata": {},
   "outputs": [
    {
     "name": "stderr",
     "output_type": "stream",
     "text": [
      "/Users/Julio/anaconda/lib/python3.5/site-packages/scipy/stats/stats.py:1633: FutureWarning: Using a non-tuple sequence for multidimensional indexing is deprecated; use `arr[tuple(seq)]` instead of `arr[seq]`. In the future this will be interpreted as an array index, `arr[np.array(seq)]`, which will result either in an error or a different result.\n",
      "  return np.add.reduce(sorted[indexer] * weights, axis=axis) / sumval\n"
     ]
    },
    {
     "data": {
      "text/plain": [
       "(5.5, 8.2)"
      ]
     },
     "execution_count": 231,
     "metadata": {},
     "output_type": "execute_result"
    },
    {
     "data": {
      "image/png": "[encoded data removed]",
      "text/plain": [
       "<matplotlib.figure.Figure at 0x11c54ac50>"
      ]
     },
     "metadata": {},
     "output_type": "display_data"
    }
   ],
   "source": [
    "\n",
    "\n",
    "z2 = pd.DataFrame(pH02, columns=['pH'])\n",
    "z2['pH_pred'] = model_01.predict(Xd02)\n",
    "sns.regplot(x='pH', y='pH_pred', data=z2)\n",
    "plt.xlim([5.5, 8.2])\n",
    "plt.ylim([5.5, 8.2])"
   ]
  },
  {
   "cell_type": "markdown",
   "metadata": {},
   "source": [
    "### - Calibration Curve: Method 03: Entire Spectra ---> PCA ---> `ALL` exp conditions & Cross validation"
   ]
  },
  {
   "cell_type": "code",
   "execution_count": 232,
   "metadata": {},
   "outputs": [
    {
     "name": "stdout",
     "output_type": "stream",
     "text": [
      "Fitting 3 folds for each of 392 candidates, totalling 1176 fits\n"
     ]
    },
    {
     "name": "stderr",
     "output_type": "stream",
     "text": [
      "[Parallel(n_jobs=3)]: Using backend LokyBackend with 3 concurrent workers.\n",
      "[Parallel(n_jobs=3)]: Done 386 tasks      | elapsed:    2.5s\n",
      "[Parallel(n_jobs=3)]: Done 1176 out of 1176 | elapsed:    7.8s finished\n"
     ]
    }
   ],
   "source": [
    "cut = 7.2\n",
    "f = pH <= cut\n",
    "Xd03 = X[f]\n",
    "pH03 = pH[f]\n",
    "\n",
    "model_03 = train_linear_reg_pipeline(Xd03, pH03, min_n=2, max_n= 100)"
   ]
  },
  {
   "cell_type": "code",
   "execution_count": 233,
   "metadata": {},
   "outputs": [
    {
     "data": {
      "text/plain": [
       "0.8203225079163803"
      ]
     },
     "execution_count": 233,
     "metadata": {},
     "output_type": "execute_result"
    }
   ],
   "source": [
    "metrics.r2_score(pH03, model_03.predict(Xd03))"
   ]
  },
  {
   "cell_type": "code",
   "execution_count": 234,
   "metadata": {},
   "outputs": [
    {
     "name": "stdout",
     "output_type": "stream",
     "text": [
      "33\n",
      "Coef [[0.68476951]]\n",
      "intercept_ [6.43379572]\n"
     ]
    }
   ],
   "source": [
    "print(model_03.named_steps['pca'].n_components)\n",
    "print( 'Coef', model_02.coef_)\n",
    "print( 'intercept_', model_02.intercept_)"
   ]
  },
  {
   "cell_type": "code",
   "execution_count": 235,
   "metadata": {},
   "outputs": [
    {
     "data": {
      "text/plain": [
       "<matplotlib.colorbar.Colorbar at 0x11e3850f0>"
      ]
     },
     "execution_count": 235,
     "metadata": {},
     "output_type": "execute_result"
    },
    {
     "data": {
      "image/png": "[encoded data removed]",
      "text/plain": [
       "<matplotlib.figure.Figure at 0x11e208dd8>"
      ]
     },
     "metadata": {},
     "output_type": "display_data"
    }
   ],
   "source": [
    "plt.scatter(pH03,model_03.predict(Xd03), c= info['concentration_mM'][f], cmap='jet')\n",
    "plt.xlim([5.9, cut])\n",
    "plt.ylim([5.9, cut])\n",
    "plt.colorbar()"
   ]
  },
  {
   "cell_type": "code",
   "execution_count": 236,
   "metadata": {},
   "outputs": [
    {
     "name": "stdout",
     "output_type": "stream",
     "text": [
      "                            OLS Regression Results                            \n",
      "==============================================================================\n",
      "Dep. Variable:                    Res   R-squared:                       0.320\n",
      "Model:                            OLS   Adj. R-squared:                  0.307\n",
      "Method:                 Least Squares   F-statistic:                     23.17\n",
      "Date:                Fri, 23 Aug 2019   Prob (F-statistic):           9.98e-26\n",
      "Time:                        16:48:25   Log-Likelihood:                 217.62\n",
      "No. Observations:                 351   AIC:                            -421.2\n",
      "Df Residuals:                     344   BIC:                            -394.2\n",
      "Df Model:                           7                                         \n",
      "Covariance Type:            nonrobust                                         \n",
      "====================================================================================\n",
      "                       coef    std err          t      P>|t|      [0.025      0.975]\n",
      "------------------------------------------------------------------------------------\n",
      "pH                   0.1297      0.011     11.475      0.000       0.107       0.152\n",
      "concentration_mM     0.0134      0.013      0.995      0.320      -0.013       0.040\n",
      "temperature_C       -0.0168      0.008     -2.210      0.028      -0.032      -0.002\n",
      "sat time_sec         0.0231      0.012      1.930      0.054      -0.000       0.047\n",
      "sat power_uT         0.0266      0.014      1.872      0.062      -0.001       0.054\n",
      "Peak_4p2            -0.1106      0.015     -7.281      0.000      -0.140      -0.081\n",
      "Peak_5p6             0.0428      0.014      3.108      0.002       0.016       0.070\n",
      "==============================================================================\n",
      "Omnibus:                       42.944   Durbin-Watson:                   1.189\n",
      "Prob(Omnibus):                  0.000   Jarque-Bera (JB):              109.359\n",
      "Skew:                          -0.587   Prob(JB):                     1.79e-24\n",
      "Kurtosis:                       5.469   Cond. No.                         5.27\n",
      "==============================================================================\n",
      "\n",
      "Warnings:\n",
      "[1] Standard Errors assume that the covariance matrix of the errors is correctly specified.\n"
     ]
    },
    {
     "name": "stderr",
     "output_type": "stream",
     "text": [
      "/Users/Julio/anaconda/lib/python3.5/site-packages/sklearn/utils/validation.py:595: DataConversionWarning: Data with input dtype int64 was converted to float64 by the scale function.\n",
      "  warnings.warn(msg, DataConversionWarning)\n",
      "/Users/Julio/anaconda/lib/python3.5/site-packages/sklearn/utils/validation.py:595: DataConversionWarning: Data with input dtype int64 was converted to float64 by the scale function.\n",
      "  warnings.warn(msg, DataConversionWarning)\n"
     ]
    }
   ],
   "source": [
    "import statsmodels.api as sm\n",
    "from sklearn.preprocessing import scale\n",
    "\n",
    "error = pd.DataFrame( pH03 - model_03.predict(Xd03))\n",
    "error.columns=['Res']\n",
    "\n",
    "pred= info[f][['pH','concentration_mM', 'temperature_C', 'sat time_sec','sat power_uT','Peak_4p2', 'Peak_5p6']]\n",
    "df= pd.merge(pred, error, right_index=True, left_index=True)\n",
    "\n",
    "#pred['Int'] = 1\n",
    "\n",
    "mod  = sm.OLS(error,pred.apply(scale))\n",
    "res = mod.fit()\n",
    "print(res.summary())"
   ]
  },
  {
   "cell_type": "code",
   "execution_count": 240,
   "metadata": {},
   "outputs": [
    {
     "data": {
      "text/plain": [
       "<matplotlib.axes._subplots.AxesSubplot at 0x11e895be0>"
      ]
     },
     "execution_count": 240,
     "metadata": {},
     "output_type": "execute_result"
    },
    {
     "data": {
      "image/png": "[encoded data removed]",
      "text/plain": [
       "<matplotlib.figure.Figure at 0x11e624940>"
      ]
     },
     "metadata": {},
     "output_type": "display_data"
    }
   ],
   "source": [
    "sns.swarmplot(x='concentration_mM', y= 'Res', data = df)"
   ]
  },
  {
   "cell_type": "code",
   "execution_count": 239,
   "metadata": {},
   "outputs": [
    {
     "data": {
      "text/plain": [
       "<matplotlib.axes._subplots.AxesSubplot at 0x11e644278>"
      ]
     },
     "execution_count": 239,
     "metadata": {},
     "output_type": "execute_result"
    },
    {
     "data": {
      "image/png": "[encoded data removed]",
      "text/plain": [
       "<matplotlib.figure.Figure at 0x11e622ef0>"
      ]
     },
     "metadata": {},
     "output_type": "display_data"
    }
   ],
   "source": [
    "sns.swarmplot(x='pH', y= 'Res', data = df)"
   ]
  },
  {
   "cell_type": "code",
   "execution_count": null,
   "metadata": {},
   "outputs": [],
   "source": [
    "'sat power_uT'"
   ]
  },
  {
   "cell_type": "code",
   "execution_count": 72,
   "metadata": {},
   "outputs": [
    {
     "data": {
      "text/plain": [
       "LinearRegression(copy_X=True, fit_intercept=True, n_jobs=None,\n",
       "         normalize=False)"
      ]
     },
     "execution_count": 72,
     "metadata": {},
     "output_type": "execute_result"
    }
   ],
   "source": [
    "model_03.named_steps['linear'].coe"
   ]
  },
  {
   "cell_type": "code",
   "execution_count": null,
   "metadata": {},
   "outputs": [],
   "source": [
    "f, (ax1, ax2, ax3) = plt.subplots(1, 3, sharey=False, dpi=100)\n",
    "\n",
    "ax1.plot(d.pH, pHhat,'o')\n",
    "ax1.set_title('Calibration Curve')\n",
    "#ax1.ylim([5.5,7.5])\n",
    "\n",
    "print()\n",
    "print('MSE \\n',metrics.regression.mean_squared_error(d.pH,LR.predict(Xd)))\n",
    "\n",
    "\n",
    "## Apply Calibriton to everything\n",
    "\n",
    "I = info[info.pH <= 7.4]\n",
    "\n",
    "Xd = I['RATIO'].replace(np.inf,0)\n",
    "Xd = Xd.values.reshape(-1,1)\n",
    "\n",
    "yd = I.pH.copy()\n",
    "\n",
    "pHhat1 = LR.predict(Xd)\n",
    "\n",
    "\n",
    "ax2.plot(yd, pHhat1,'o')\n",
    "ax2.set_title('Applied to all samples')\n",
    "\n",
    "print()\n",
    "print('MSE \\n',metrics.regression.mean_squared_error(yd,pHhat1))\n",
    "\n",
    "ax3.hist( (yd - pHhat1)**2)"
   ]
  },
  {
   "cell_type": "markdown",
   "metadata": {},
   "source": [
    "## Train on all variables and test on all data"
   ]
  },
  {
   "cell_type": "code",
   "execution_count": null,
   "metadata": {},
   "outputs": [],
   "source": [
    "model_all = train_linear_regression(Xd, yd)\n",
    "\n",
    "pHhat2 = model_all.predict(Xd)\n",
    "\n",
    "plt.scatter(yd, pHhat2)\n",
    "plt.xlabel('Expected pH')\n",
    "plt.ylabel('Predicted pH')\n",
    "plt.ylim([5.5,7.5])\n",
    "\n",
    "print()\n",
    "print('MSE \\n',metrics.regression.mean_squared_error(yd,pHhat2))"
   ]
  },
  {
   "cell_type": "markdown",
   "metadata": {},
   "source": [
    "### Train on Spectra and test on everything"
   ]
  },
  {
   "cell_type": "code",
   "execution_count": null,
   "metadata": {},
   "outputs": [],
   "source": [
    "Xd = X[info.pH <= 7.4]\n",
    "yd = info.pH[info.pH <= 7.4]\n",
    "\n",
    "model_all = train_linear_regression(Xd, yd)\n",
    "\n",
    "pHhat3 = model_all.predict(Xd)\n",
    "\n",
    "plt.scatter(yd, pHhat3)\n",
    "plt.xlabel('Expected pH')\n",
    "plt.ylabel('Predicted pH')\n",
    "plt.ylim([5.5,7.5])\n",
    "\n",
    "\n",
    "print()\n",
    "print('MSE \\n',metrics.regression.mean_squared_error(yd,pHhat3))"
   ]
  },
  {
   "cell_type": "markdown",
   "metadata": {},
   "source": [
    "### Train on Spectra + PCA and test on everything"
   ]
  },
  {
   "cell_type": "code",
   "execution_count": null,
   "metadata": {},
   "outputs": [],
   "source": [
    "Xd.shape"
   ]
  },
  {
   "cell_type": "code",
   "execution_count": null,
   "metadata": {},
   "outputs": [],
   "source": [
    "model_pca = train_linear_reg_pipeline(Xd, yd, max_n= 125)\n",
    "\n",
    "pHhat4 = model_pca.predict(Xd)\n",
    "\n",
    "plt.scatter(yd, pHhat4)\n",
    "plt.xlabel('Expected pH')\n",
    "plt.ylabel('Predicted pH')\n",
    "plt.ylim([5.5,7.5])\n",
    "plt.xlim([5.5,7.5])\n",
    "\n",
    "\n",
    "print()\n",
    "print('MSE \\n',metrics.regression.mean_squared_error(yd,pHhat4))"
   ]
  },
  {
   "cell_type": "code",
   "execution_count": null,
   "metadata": {},
   "outputs": [],
   "source": [
    "model_pca"
   ]
  },
  {
   "cell_type": "code",
   "execution_count": null,
   "metadata": {},
   "outputs": [],
   "source": [
    "plt.hist( (yd - pHhat4)**2)"
   ]
  },
  {
   "cell_type": "markdown",
   "metadata": {},
   "source": [
    "#### Logistic Regression"
   ]
  },
  {
   "cell_type": "code",
   "execution_count": null,
   "metadata": {
    "collapsed": true
   },
   "outputs": [],
   "source": [
    "### define function to train model based on cuttoff for pH\n",
    "def train_linear_reg_pipeline(Spectra, pH_observed, min_n=2, max_n= 10):\n",
    "    # cut off > pH\n",
    "    y = pH_observed\n",
    "    # X data\n",
    "    X = Spectra.copy()\n",
    "        \n",
    "    # Logistic\n",
    "    linear = linear_model.LinearRegression( )\n",
    "    \n",
    "    #PCA\n",
    "    pca = PCA(random_state=42)\n",
    "    \n",
    "    # pipeline\n",
    "    pipe = Pipeline(steps=[('pca', pca), ('linear', linear)])\n",
    "    \n",
    "    # Training parameters\n",
    "    num_pca_components = np.arange(min_n,max_n,1)\n",
    "\n",
    "\n",
    "    param_grid ={\n",
    "    'pca__n_components': num_pca_components,\n",
    "    'linear__normalize': [True,False],\n",
    "    'linear__fit_intercept':[True,False]\n",
    "    }\n",
    "    \n",
    "    \n",
    "    estimator = GridSearchCV(pipe, param_grid, verbose = 1, cv = 3, n_jobs=3, iid = True)\n",
    "    \n",
    "    # Split data\n",
    "    X_train, X_test, y_train, y_test = train_test_split(X, y, test_size=0.30, random_state=42)\n",
    "\n",
    "    # Grid Search of Model\"\n",
    "    estimator.fit(X_train, y_train)\n",
    "\n",
    "    \n",
    "    return estimator.best_estimator_"
   ]
  },
  {
   "cell_type": "code",
   "execution_count": null,
   "metadata": {
    "collapsed": true
   },
   "outputs": [],
   "source": [
    "### define function to train model based on cuttoff for pH\n",
    "def train_linear_regression(Spectra, pH_observed):\n",
    "    # cut off > pH\n",
    "    y = pH_observed\n",
    "    # X data\n",
    "    X = Spectra.copy()\n",
    "        \n",
    "    # Logistic\n",
    "    linear = linear_model.LinearRegression( )\n",
    "\n",
    "    # Training parameters\n",
    "    param_grid ={\n",
    "    'normalize': [True,False],\n",
    "        'fit_intercept':[False,True]\n",
    "    }\n",
    "    \n",
    "    \n",
    "    estimator = GridSearchCV(linear, param_grid, verbose = 1, cv = 3, n_jobs=3, iid = True)\n",
    "    \n",
    "    # Split data\n",
    "    X_train, X_test, y_train, y_test = train_test_split(X, y, test_size=0.30, random_state=42)\n",
    "\n",
    "    # Grid Search of Model\n",
    "    estimator.fit(X_train, y_train)\n",
    "        \n",
    "    return estimator.best_estimator_"
   ]
  },
  {
   "cell_type": "markdown",
   "metadata": {},
   "source": [
    "    # Grid Search on Pipeline\n",
    "    estimator = GridSearchCV(logistic,\n",
    "                         dict(\n",
    "                              C= Cs,\n",
    "                              class_weight= ['balanced',None],\n",
    "                              fit_intercept= [True,False]), \n",
    "                             verbose = 1, cv = 3, n_jobs=3, iid = True)"
   ]
  },
  {
   "cell_type": "markdown",
   "metadata": {},
   "source": [
    "Note on metrics\n",
    "- precision = positive predictive value\n",
    "- recall    = sensitivity"
   ]
  },
  {
   "cell_type": "markdown",
   "metadata": {},
   "source": [
    "###  -training pH >7.0  "
   ]
  },
  {
   "cell_type": "code",
   "execution_count": null,
   "metadata": {
    "collapsed": true
   },
   "outputs": [],
   "source": [
    "(pH> 7).value_counts(normalize = True).round(2)"
   ]
  },
  {
   "cell_type": "markdown",
   "metadata": {},
   "source": [
    "### Pipeline"
   ]
  },
  {
   "cell_type": "code",
   "execution_count": null,
   "metadata": {
    "collapsed": true
   },
   "outputs": [],
   "source": [
    "s = X.shape[1]\n",
    "step_size = 1"
   ]
  },
  {
   "cell_type": "code",
   "execution_count": null,
   "metadata": {
    "collapsed": true
   },
   "outputs": [],
   "source": [
    "clf_01, Xtrain, Xtest, ytrain, ytest = train_logistic_PCA_pipeline( X.iloc[:,0:s:step_size], pH,\n",
    "                                                                           min_n=2, max_n= 10,\n",
    "                                                                           pH_cut_off = 7.0, n_cs=20 )\n",
    "\n",
    "clf_01"
   ]
  },
  {
   "cell_type": "markdown",
   "metadata": {},
   "source": [
    "### Only Logistic Regression"
   ]
  },
  {
   "cell_type": "code",
   "execution_count": null,
   "metadata": {
    "collapsed": true
   },
   "outputs": [],
   "source": [
    "clf_01, Xtrain, Xtest, ytrain, ytest = train_logistic_regression( X.iloc[:,0:s:step_size], pH,\n",
    "                                                                           pH_cut_off = 7.0, n_cs=20 )"
   ]
  },
  {
   "cell_type": "markdown",
   "metadata": {},
   "source": [
    "### pH > 6.8"
   ]
  },
  {
   "cell_type": "code",
   "execution_count": null,
   "metadata": {
    "collapsed": true
   },
   "outputs": [],
   "source": [
    "(pH > 6.8).value_counts(normalize = True).round(2)"
   ]
  },
  {
   "cell_type": "code",
   "execution_count": null,
   "metadata": {
    "collapsed": true
   },
   "outputs": [],
   "source": [
    "clf_pca, Xtrain, Xtest, ytrain, ytest = train_logistic_PCA_pipeline( X.iloc[:,0:s:1], pH,\n",
    "                                                                           min_n=2, max_n= 10,\n",
    "                                                                           pH_cut_off = 6.8, n_cs=20 )\n",
    "clf_pca"
   ]
  },
  {
   "cell_type": "markdown",
   "metadata": {
    "collapsed": true
   },
   "source": [
    "For Mart"
   ]
  },
  {
   "cell_type": "code",
   "execution_count": null,
   "metadata": {
    "collapsed": true
   },
   "outputs": [],
   "source": [
    "pca = clf_pca.named_steps['pca']"
   ]
  },
  {
   "cell_type": "code",
   "execution_count": null,
   "metadata": {
    "collapsed": true
   },
   "outputs": [],
   "source": [
    "pca.transform(X.iloc[250:251,:])"
   ]
  },
  {
   "cell_type": "code",
   "execution_count": null,
   "metadata": {
    "collapsed": true
   },
   "outputs": [],
   "source": [
    "clf_pca.predict(X)"
   ]
  },
  {
   "cell_type": "code",
   "execution_count": null,
   "metadata": {},
   "outputs": [],
   "source": [
    "X"
   ]
  },
  {
   "cell_type": "code",
   "execution_count": null,
   "metadata": {},
   "outputs": [],
   "source": [
    "model_pca"
   ]
  },
  {
   "cell_type": "code",
   "execution_count": null,
   "metadata": {
    "collapsed": true
   },
   "outputs": [],
   "source": [
    "pca_s = model_pca.named_steps['pca']"
   ]
  },
  {
   "cell_type": "code",
   "execution_count": null,
   "metadata": {},
   "outputs": [],
   "source": [
    "np.linalg.matrix_rank( X)"
   ]
  },
  {
   "cell_type": "code",
   "execution_count": null,
   "metadata": {},
   "outputs": [],
   "source": [
    "sns.heatmap( np.corrcoef( pca_s.transform(X) ), vmin=-1, vmax=1 )"
   ]
  },
  {
   "cell_type": "code",
   "execution_count": null,
   "metadata": {
    "collapsed": true
   },
   "outputs": [],
   "source": [
    "sns.heatmap?"
   ]
  },
  {
   "cell_type": "code",
   "execution_count": null,
   "metadata": {
    "collapsed": true
   },
   "outputs": [],
   "source": [
    "import seaborn as sns"
   ]
  },
  {
   "cell_type": "code",
   "execution_count": null,
   "metadata": {},
   "outputs": [],
   "source": [
    "sns.heatmap(np.corrcoef(X) , vmin=-1, vmax=1  )"
   ]
  },
  {
   "cell_type": "code",
   "execution_count": null,
   "metadata": {
    "collapsed": true
   },
   "outputs": [],
   "source": []
  }
 ],
 "metadata": {
  "anaconda-cloud": {},
  "kernelspec": {
   "display_name": "Python [conda root]",
   "language": "python",
   "name": "conda-root-py"
  },
  "language_info": {
   "codemirror_mode": {
    "name": "ipython",
    "version": 3
   },
   "file_extension": ".py",
   "mimetype": "text/x-python",
   "name": "python",
   "nbconvert_exporter": "python",
   "pygments_lexer": "ipython3",
   "version": "3.5.3"
  }
 },
 "nbformat": 4,
 "nbformat_minor": 2
}
